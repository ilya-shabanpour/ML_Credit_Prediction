{
 "cells": [
  {
   "cell_type": "code",
   "outputs": [
    {
     "data": {
      "text/plain": "       CLIENTNUM  Customer_Age Gender  Dependent_count Education_Level  \\\n0      768805383          45.0      M                3     High School   \n1      818770008          49.0      F                5        Graduate   \n2      713982108          51.0      M                3        Graduate   \n3      769911858          40.0      F                4     High School   \n4      709106358          40.0      M                3      Uneducated   \n...          ...           ...    ...              ...             ...   \n10162  718673358          35.0      M                3       Doctorate   \n10163  715207458          46.0      F                1         Unknown   \n10164  803665983          52.0      M                0         Unknown   \n10165  713183508          39.0      F                1     High School   \n10166  718893333          52.0      M                3        Graduate   \n\n      Marital_Status Income_Category Card_Category  Months_on_book  \\\n0            Married     $60K - $80K          Blue            39.0   \n1                NaN  Less than $40K          Blue            44.0   \n2            Married    $80K - $120K          Blue            36.0   \n3                NaN  Less than $40K          Blue            34.0   \n4            Married     $60K - $80K           NaN            21.0   \n...              ...             ...           ...             ...   \n10162            NaN    $80K - $120K          Blue            30.0   \n10163         Single  Less than $40K          Blue            39.0   \n10164            NaN     $60K - $80K          Blue            46.0   \n10165            NaN         Unknown           NaN            36.0   \n10166            NaN     $60K - $80K          Blue            36.0   \n\n       Total_Relationship_Count  Months_Inactive_12_mon  \\\n0                           5.0                       1   \n1                           6.0                       1   \n2                           4.0                       1   \n3                           3.0                       4   \n4                           5.0                       1   \n...                         ...                     ...   \n10162                       5.0                       3   \n10163                       2.0                       2   \n10164                       3.0                       2   \n10165                       1.0                       3   \n10166                       3.0                       3   \n\n       Contacts_Count_12_mon  Credit_Limit  Total_Revolving_Bal  \\\n0                          3       12691.0                  777   \n1                          2        8256.0                  864   \n2                          0        3418.0                    0   \n3                          1        3313.0                 2517   \n4                          0        4716.0                    0   \n...                      ...           ...                  ...   \n10162                      4       13590.0                 1528   \n10163                      1        2029.0                 1074   \n10164                      4        2742.0                 2184   \n10165                      2        2751.0                 1158   \n10166                      2       18336.0                 2077   \n\n       Total_Amt_Chng_Q4_Q1  Total_Trans_Amt  Total_Trans_Ct  \\\n0                     1.335             1144              42   \n1                     1.541             1291              33   \n2                     2.594             1887              20   \n3                     1.405             1171              20   \n4                     2.175              816              28   \n...                     ...              ...             ...   \n10162                 0.728             2137              52   \n10163                 0.514             4802              90   \n10164                 0.592             3829              72   \n10165                 0.821             4861              82   \n10166                 0.718             7509              84   \n\n       Total_Ct_Chng_Q4_Q1  Avg_Utilization_Ratio  Unnamed: 19  \n0                    1.625                  0.061          NaN  \n1                    3.714                  0.105          NaN  \n2                    2.333                  0.000          NaN  \n3                    2.333                  0.760          NaN  \n4                    2.500                  0.000          NaN  \n...                    ...                    ...          ...  \n10162                0.486                  0.112          NaN  \n10163                0.800                  0.529          NaN  \n10164                0.532                  0.796          NaN  \n10165                0.822                  0.421          NaN  \n10166                0.647                  0.113          NaN  \n\n[10167 rows x 20 columns]",
      "text/html": "<div>\n<style scoped>\n    .dataframe tbody tr th:only-of-type {\n        vertical-align: middle;\n    }\n\n    .dataframe tbody tr th {\n        vertical-align: top;\n    }\n\n    .dataframe thead th {\n        text-align: right;\n    }\n</style>\n<table border=\"1\" class=\"dataframe\">\n  <thead>\n    <tr style=\"text-align: right;\">\n      <th></th>\n      <th>CLIENTNUM</th>\n      <th>Customer_Age</th>\n      <th>Gender</th>\n      <th>Dependent_count</th>\n      <th>Education_Level</th>\n      <th>Marital_Status</th>\n      <th>Income_Category</th>\n      <th>Card_Category</th>\n      <th>Months_on_book</th>\n      <th>Total_Relationship_Count</th>\n      <th>Months_Inactive_12_mon</th>\n      <th>Contacts_Count_12_mon</th>\n      <th>Credit_Limit</th>\n      <th>Total_Revolving_Bal</th>\n      <th>Total_Amt_Chng_Q4_Q1</th>\n      <th>Total_Trans_Amt</th>\n      <th>Total_Trans_Ct</th>\n      <th>Total_Ct_Chng_Q4_Q1</th>\n      <th>Avg_Utilization_Ratio</th>\n      <th>Unnamed: 19</th>\n    </tr>\n  </thead>\n  <tbody>\n    <tr>\n      <th>0</th>\n      <td>768805383</td>\n      <td>45.0</td>\n      <td>M</td>\n      <td>3</td>\n      <td>High School</td>\n      <td>Married</td>\n      <td>$60K - $80K</td>\n      <td>Blue</td>\n      <td>39.0</td>\n      <td>5.0</td>\n      <td>1</td>\n      <td>3</td>\n      <td>12691.0</td>\n      <td>777</td>\n      <td>1.335</td>\n      <td>1144</td>\n      <td>42</td>\n      <td>1.625</td>\n      <td>0.061</td>\n      <td>NaN</td>\n    </tr>\n    <tr>\n      <th>1</th>\n      <td>818770008</td>\n      <td>49.0</td>\n      <td>F</td>\n      <td>5</td>\n      <td>Graduate</td>\n      <td>NaN</td>\n      <td>Less than $40K</td>\n      <td>Blue</td>\n      <td>44.0</td>\n      <td>6.0</td>\n      <td>1</td>\n      <td>2</td>\n      <td>8256.0</td>\n      <td>864</td>\n      <td>1.541</td>\n      <td>1291</td>\n      <td>33</td>\n      <td>3.714</td>\n      <td>0.105</td>\n      <td>NaN</td>\n    </tr>\n    <tr>\n      <th>2</th>\n      <td>713982108</td>\n      <td>51.0</td>\n      <td>M</td>\n      <td>3</td>\n      <td>Graduate</td>\n      <td>Married</td>\n      <td>$80K - $120K</td>\n      <td>Blue</td>\n      <td>36.0</td>\n      <td>4.0</td>\n      <td>1</td>\n      <td>0</td>\n      <td>3418.0</td>\n      <td>0</td>\n      <td>2.594</td>\n      <td>1887</td>\n      <td>20</td>\n      <td>2.333</td>\n      <td>0.000</td>\n      <td>NaN</td>\n    </tr>\n    <tr>\n      <th>3</th>\n      <td>769911858</td>\n      <td>40.0</td>\n      <td>F</td>\n      <td>4</td>\n      <td>High School</td>\n      <td>NaN</td>\n      <td>Less than $40K</td>\n      <td>Blue</td>\n      <td>34.0</td>\n      <td>3.0</td>\n      <td>4</td>\n      <td>1</td>\n      <td>3313.0</td>\n      <td>2517</td>\n      <td>1.405</td>\n      <td>1171</td>\n      <td>20</td>\n      <td>2.333</td>\n      <td>0.760</td>\n      <td>NaN</td>\n    </tr>\n    <tr>\n      <th>4</th>\n      <td>709106358</td>\n      <td>40.0</td>\n      <td>M</td>\n      <td>3</td>\n      <td>Uneducated</td>\n      <td>Married</td>\n      <td>$60K - $80K</td>\n      <td>NaN</td>\n      <td>21.0</td>\n      <td>5.0</td>\n      <td>1</td>\n      <td>0</td>\n      <td>4716.0</td>\n      <td>0</td>\n      <td>2.175</td>\n      <td>816</td>\n      <td>28</td>\n      <td>2.500</td>\n      <td>0.000</td>\n      <td>NaN</td>\n    </tr>\n    <tr>\n      <th>...</th>\n      <td>...</td>\n      <td>...</td>\n      <td>...</td>\n      <td>...</td>\n      <td>...</td>\n      <td>...</td>\n      <td>...</td>\n      <td>...</td>\n      <td>...</td>\n      <td>...</td>\n      <td>...</td>\n      <td>...</td>\n      <td>...</td>\n      <td>...</td>\n      <td>...</td>\n      <td>...</td>\n      <td>...</td>\n      <td>...</td>\n      <td>...</td>\n      <td>...</td>\n    </tr>\n    <tr>\n      <th>10162</th>\n      <td>718673358</td>\n      <td>35.0</td>\n      <td>M</td>\n      <td>3</td>\n      <td>Doctorate</td>\n      <td>NaN</td>\n      <td>$80K - $120K</td>\n      <td>Blue</td>\n      <td>30.0</td>\n      <td>5.0</td>\n      <td>3</td>\n      <td>4</td>\n      <td>13590.0</td>\n      <td>1528</td>\n      <td>0.728</td>\n      <td>2137</td>\n      <td>52</td>\n      <td>0.486</td>\n      <td>0.112</td>\n      <td>NaN</td>\n    </tr>\n    <tr>\n      <th>10163</th>\n      <td>715207458</td>\n      <td>46.0</td>\n      <td>F</td>\n      <td>1</td>\n      <td>Unknown</td>\n      <td>Single</td>\n      <td>Less than $40K</td>\n      <td>Blue</td>\n      <td>39.0</td>\n      <td>2.0</td>\n      <td>2</td>\n      <td>1</td>\n      <td>2029.0</td>\n      <td>1074</td>\n      <td>0.514</td>\n      <td>4802</td>\n      <td>90</td>\n      <td>0.800</td>\n      <td>0.529</td>\n      <td>NaN</td>\n    </tr>\n    <tr>\n      <th>10164</th>\n      <td>803665983</td>\n      <td>52.0</td>\n      <td>M</td>\n      <td>0</td>\n      <td>Unknown</td>\n      <td>NaN</td>\n      <td>$60K - $80K</td>\n      <td>Blue</td>\n      <td>46.0</td>\n      <td>3.0</td>\n      <td>2</td>\n      <td>4</td>\n      <td>2742.0</td>\n      <td>2184</td>\n      <td>0.592</td>\n      <td>3829</td>\n      <td>72</td>\n      <td>0.532</td>\n      <td>0.796</td>\n      <td>NaN</td>\n    </tr>\n    <tr>\n      <th>10165</th>\n      <td>713183508</td>\n      <td>39.0</td>\n      <td>F</td>\n      <td>1</td>\n      <td>High School</td>\n      <td>NaN</td>\n      <td>Unknown</td>\n      <td>NaN</td>\n      <td>36.0</td>\n      <td>1.0</td>\n      <td>3</td>\n      <td>2</td>\n      <td>2751.0</td>\n      <td>1158</td>\n      <td>0.821</td>\n      <td>4861</td>\n      <td>82</td>\n      <td>0.822</td>\n      <td>0.421</td>\n      <td>NaN</td>\n    </tr>\n    <tr>\n      <th>10166</th>\n      <td>718893333</td>\n      <td>52.0</td>\n      <td>M</td>\n      <td>3</td>\n      <td>Graduate</td>\n      <td>NaN</td>\n      <td>$60K - $80K</td>\n      <td>Blue</td>\n      <td>36.0</td>\n      <td>3.0</td>\n      <td>3</td>\n      <td>2</td>\n      <td>18336.0</td>\n      <td>2077</td>\n      <td>0.718</td>\n      <td>7509</td>\n      <td>84</td>\n      <td>0.647</td>\n      <td>0.113</td>\n      <td>NaN</td>\n    </tr>\n  </tbody>\n</table>\n<p>10167 rows × 20 columns</p>\n</div>"
     },
     "execution_count": 23,
     "metadata": {},
     "output_type": "execute_result"
    }
   ],
   "source": [
    "import pandas as pd\n",
    "import numpy as np\n",
    "\n",
    "df = pd.read_csv(\"creditPrediction.csv\")\n",
    "df"
   ],
   "metadata": {
    "collapsed": false,
    "ExecuteTime": {
     "end_time": "2024-05-27T13:54:24.655715900Z",
     "start_time": "2024-05-27T13:54:24.571411Z"
    }
   },
   "id": "44a77362ddee2f86",
   "execution_count": 23
  },
  {
   "cell_type": "code",
   "outputs": [
    {
     "data": {
      "text/plain": "False"
     },
     "execution_count": 24,
     "metadata": {},
     "output_type": "execute_result"
    }
   ],
   "source": [
    "df[\"Customer_Age\"].isnull().values.any()"
   ],
   "metadata": {
    "collapsed": false,
    "ExecuteTime": {
     "end_time": "2024-05-27T13:54:24.655715900Z",
     "start_time": "2024-05-27T13:54:24.613358800Z"
    }
   },
   "id": "e1fe60e2dea016a8",
   "execution_count": 24
  },
  {
   "cell_type": "code",
   "outputs": [
    {
     "data": {
      "text/plain": "0    F\nName: Gender, dtype: object"
     },
     "execution_count": 25,
     "metadata": {},
     "output_type": "execute_result"
    }
   ],
   "source": [
    "mod_gender = df[\"Gender\"].mode()\n",
    "mod_gender\n"
   ],
   "metadata": {
    "collapsed": false,
    "ExecuteTime": {
     "end_time": "2024-05-27T13:54:24.687730300Z",
     "start_time": "2024-05-27T13:54:24.627808200Z"
    }
   },
   "id": "c46471ba74c9561f",
   "execution_count": 25
  },
  {
   "cell_type": "code",
   "outputs": [
    {
     "data": {
      "text/plain": "Education_Level\nGraduate         3141\nHigh School      2024\nUnknown          1522\nUneducated       1490\nCollege          1020\nPost-Graduate     518\nDoctorate         452\nName: count, dtype: int64"
     },
     "execution_count": 26,
     "metadata": {},
     "output_type": "execute_result"
    }
   ],
   "source": [
    "mod_edu = df[\"Education_Level\"].value_counts()\n",
    "mod_edu"
   ],
   "metadata": {
    "collapsed": false,
    "ExecuteTime": {
     "end_time": "2024-05-27T13:54:24.701753400Z",
     "start_time": "2024-05-27T13:54:24.645383700Z"
    }
   },
   "id": "5e008b0ee658ace5",
   "execution_count": 26
  },
  {
   "cell_type": "code",
   "outputs": [
    {
     "data": {
      "text/plain": "       CLIENTNUM  Customer_Age Gender  Dependent_count Education_Level  \\\n0      768805383          45.0      M                3     High School   \n1      818770008          49.0      F                5        Graduate   \n2      713982108          51.0      M                3        Graduate   \n3      769911858          40.0      F                4     High School   \n4      709106358          40.0      M                3      Uneducated   \n...          ...           ...    ...              ...             ...   \n10162  718673358          35.0      M                3       Doctorate   \n10163  715207458          46.0      F                1        Graduate   \n10164  803665983          52.0      M                0        Graduate   \n10165  713183508          39.0      F                1     High School   \n10166  718893333          52.0      M                3        Graduate   \n\n      Marital_Status Income_Category Card_Category  Months_on_book  \\\n0            Married     $60K - $80K          Blue            39.0   \n1                NaN  Less than $40K          Blue            44.0   \n2            Married    $80K - $120K          Blue            36.0   \n3                NaN  Less than $40K          Blue            34.0   \n4            Married     $60K - $80K           NaN            21.0   \n...              ...             ...           ...             ...   \n10162            NaN    $80K - $120K          Blue            30.0   \n10163         Single  Less than $40K          Blue            39.0   \n10164            NaN     $60K - $80K          Blue            46.0   \n10165            NaN         Unknown           NaN            36.0   \n10166            NaN     $60K - $80K          Blue            36.0   \n\n       Total_Relationship_Count  Months_Inactive_12_mon  \\\n0                           5.0                       1   \n1                           6.0                       1   \n2                           4.0                       1   \n3                           3.0                       4   \n4                           5.0                       1   \n...                         ...                     ...   \n10162                       5.0                       3   \n10163                       2.0                       2   \n10164                       3.0                       2   \n10165                       1.0                       3   \n10166                       3.0                       3   \n\n       Contacts_Count_12_mon  Credit_Limit  Total_Revolving_Bal  \\\n0                          3       12691.0                  777   \n1                          2        8256.0                  864   \n2                          0        3418.0                    0   \n3                          1        3313.0                 2517   \n4                          0        4716.0                    0   \n...                      ...           ...                  ...   \n10162                      4       13590.0                 1528   \n10163                      1        2029.0                 1074   \n10164                      4        2742.0                 2184   \n10165                      2        2751.0                 1158   \n10166                      2       18336.0                 2077   \n\n       Total_Amt_Chng_Q4_Q1  Total_Trans_Amt  Total_Trans_Ct  \\\n0                     1.335             1144              42   \n1                     1.541             1291              33   \n2                     2.594             1887              20   \n3                     1.405             1171              20   \n4                     2.175              816              28   \n...                     ...              ...             ...   \n10162                 0.728             2137              52   \n10163                 0.514             4802              90   \n10164                 0.592             3829              72   \n10165                 0.821             4861              82   \n10166                 0.718             7509              84   \n\n       Total_Ct_Chng_Q4_Q1  Avg_Utilization_Ratio  Unnamed: 19  \n0                    1.625                  0.061          NaN  \n1                    3.714                  0.105          NaN  \n2                    2.333                  0.000          NaN  \n3                    2.333                  0.760          NaN  \n4                    2.500                  0.000          NaN  \n...                    ...                    ...          ...  \n10162                0.486                  0.112          NaN  \n10163                0.800                  0.529          NaN  \n10164                0.532                  0.796          NaN  \n10165                0.822                  0.421          NaN  \n10166                0.647                  0.113          NaN  \n\n[10167 rows x 20 columns]",
      "text/html": "<div>\n<style scoped>\n    .dataframe tbody tr th:only-of-type {\n        vertical-align: middle;\n    }\n\n    .dataframe tbody tr th {\n        vertical-align: top;\n    }\n\n    .dataframe thead th {\n        text-align: right;\n    }\n</style>\n<table border=\"1\" class=\"dataframe\">\n  <thead>\n    <tr style=\"text-align: right;\">\n      <th></th>\n      <th>CLIENTNUM</th>\n      <th>Customer_Age</th>\n      <th>Gender</th>\n      <th>Dependent_count</th>\n      <th>Education_Level</th>\n      <th>Marital_Status</th>\n      <th>Income_Category</th>\n      <th>Card_Category</th>\n      <th>Months_on_book</th>\n      <th>Total_Relationship_Count</th>\n      <th>Months_Inactive_12_mon</th>\n      <th>Contacts_Count_12_mon</th>\n      <th>Credit_Limit</th>\n      <th>Total_Revolving_Bal</th>\n      <th>Total_Amt_Chng_Q4_Q1</th>\n      <th>Total_Trans_Amt</th>\n      <th>Total_Trans_Ct</th>\n      <th>Total_Ct_Chng_Q4_Q1</th>\n      <th>Avg_Utilization_Ratio</th>\n      <th>Unnamed: 19</th>\n    </tr>\n  </thead>\n  <tbody>\n    <tr>\n      <th>0</th>\n      <td>768805383</td>\n      <td>45.0</td>\n      <td>M</td>\n      <td>3</td>\n      <td>High School</td>\n      <td>Married</td>\n      <td>$60K - $80K</td>\n      <td>Blue</td>\n      <td>39.0</td>\n      <td>5.0</td>\n      <td>1</td>\n      <td>3</td>\n      <td>12691.0</td>\n      <td>777</td>\n      <td>1.335</td>\n      <td>1144</td>\n      <td>42</td>\n      <td>1.625</td>\n      <td>0.061</td>\n      <td>NaN</td>\n    </tr>\n    <tr>\n      <th>1</th>\n      <td>818770008</td>\n      <td>49.0</td>\n      <td>F</td>\n      <td>5</td>\n      <td>Graduate</td>\n      <td>NaN</td>\n      <td>Less than $40K</td>\n      <td>Blue</td>\n      <td>44.0</td>\n      <td>6.0</td>\n      <td>1</td>\n      <td>2</td>\n      <td>8256.0</td>\n      <td>864</td>\n      <td>1.541</td>\n      <td>1291</td>\n      <td>33</td>\n      <td>3.714</td>\n      <td>0.105</td>\n      <td>NaN</td>\n    </tr>\n    <tr>\n      <th>2</th>\n      <td>713982108</td>\n      <td>51.0</td>\n      <td>M</td>\n      <td>3</td>\n      <td>Graduate</td>\n      <td>Married</td>\n      <td>$80K - $120K</td>\n      <td>Blue</td>\n      <td>36.0</td>\n      <td>4.0</td>\n      <td>1</td>\n      <td>0</td>\n      <td>3418.0</td>\n      <td>0</td>\n      <td>2.594</td>\n      <td>1887</td>\n      <td>20</td>\n      <td>2.333</td>\n      <td>0.000</td>\n      <td>NaN</td>\n    </tr>\n    <tr>\n      <th>3</th>\n      <td>769911858</td>\n      <td>40.0</td>\n      <td>F</td>\n      <td>4</td>\n      <td>High School</td>\n      <td>NaN</td>\n      <td>Less than $40K</td>\n      <td>Blue</td>\n      <td>34.0</td>\n      <td>3.0</td>\n      <td>4</td>\n      <td>1</td>\n      <td>3313.0</td>\n      <td>2517</td>\n      <td>1.405</td>\n      <td>1171</td>\n      <td>20</td>\n      <td>2.333</td>\n      <td>0.760</td>\n      <td>NaN</td>\n    </tr>\n    <tr>\n      <th>4</th>\n      <td>709106358</td>\n      <td>40.0</td>\n      <td>M</td>\n      <td>3</td>\n      <td>Uneducated</td>\n      <td>Married</td>\n      <td>$60K - $80K</td>\n      <td>NaN</td>\n      <td>21.0</td>\n      <td>5.0</td>\n      <td>1</td>\n      <td>0</td>\n      <td>4716.0</td>\n      <td>0</td>\n      <td>2.175</td>\n      <td>816</td>\n      <td>28</td>\n      <td>2.500</td>\n      <td>0.000</td>\n      <td>NaN</td>\n    </tr>\n    <tr>\n      <th>...</th>\n      <td>...</td>\n      <td>...</td>\n      <td>...</td>\n      <td>...</td>\n      <td>...</td>\n      <td>...</td>\n      <td>...</td>\n      <td>...</td>\n      <td>...</td>\n      <td>...</td>\n      <td>...</td>\n      <td>...</td>\n      <td>...</td>\n      <td>...</td>\n      <td>...</td>\n      <td>...</td>\n      <td>...</td>\n      <td>...</td>\n      <td>...</td>\n      <td>...</td>\n    </tr>\n    <tr>\n      <th>10162</th>\n      <td>718673358</td>\n      <td>35.0</td>\n      <td>M</td>\n      <td>3</td>\n      <td>Doctorate</td>\n      <td>NaN</td>\n      <td>$80K - $120K</td>\n      <td>Blue</td>\n      <td>30.0</td>\n      <td>5.0</td>\n      <td>3</td>\n      <td>4</td>\n      <td>13590.0</td>\n      <td>1528</td>\n      <td>0.728</td>\n      <td>2137</td>\n      <td>52</td>\n      <td>0.486</td>\n      <td>0.112</td>\n      <td>NaN</td>\n    </tr>\n    <tr>\n      <th>10163</th>\n      <td>715207458</td>\n      <td>46.0</td>\n      <td>F</td>\n      <td>1</td>\n      <td>Graduate</td>\n      <td>Single</td>\n      <td>Less than $40K</td>\n      <td>Blue</td>\n      <td>39.0</td>\n      <td>2.0</td>\n      <td>2</td>\n      <td>1</td>\n      <td>2029.0</td>\n      <td>1074</td>\n      <td>0.514</td>\n      <td>4802</td>\n      <td>90</td>\n      <td>0.800</td>\n      <td>0.529</td>\n      <td>NaN</td>\n    </tr>\n    <tr>\n      <th>10164</th>\n      <td>803665983</td>\n      <td>52.0</td>\n      <td>M</td>\n      <td>0</td>\n      <td>Graduate</td>\n      <td>NaN</td>\n      <td>$60K - $80K</td>\n      <td>Blue</td>\n      <td>46.0</td>\n      <td>3.0</td>\n      <td>2</td>\n      <td>4</td>\n      <td>2742.0</td>\n      <td>2184</td>\n      <td>0.592</td>\n      <td>3829</td>\n      <td>72</td>\n      <td>0.532</td>\n      <td>0.796</td>\n      <td>NaN</td>\n    </tr>\n    <tr>\n      <th>10165</th>\n      <td>713183508</td>\n      <td>39.0</td>\n      <td>F</td>\n      <td>1</td>\n      <td>High School</td>\n      <td>NaN</td>\n      <td>Unknown</td>\n      <td>NaN</td>\n      <td>36.0</td>\n      <td>1.0</td>\n      <td>3</td>\n      <td>2</td>\n      <td>2751.0</td>\n      <td>1158</td>\n      <td>0.821</td>\n      <td>4861</td>\n      <td>82</td>\n      <td>0.822</td>\n      <td>0.421</td>\n      <td>NaN</td>\n    </tr>\n    <tr>\n      <th>10166</th>\n      <td>718893333</td>\n      <td>52.0</td>\n      <td>M</td>\n      <td>3</td>\n      <td>Graduate</td>\n      <td>NaN</td>\n      <td>$60K - $80K</td>\n      <td>Blue</td>\n      <td>36.0</td>\n      <td>3.0</td>\n      <td>3</td>\n      <td>2</td>\n      <td>18336.0</td>\n      <td>2077</td>\n      <td>0.718</td>\n      <td>7509</td>\n      <td>84</td>\n      <td>0.647</td>\n      <td>0.113</td>\n      <td>NaN</td>\n    </tr>\n  </tbody>\n</table>\n<p>10167 rows × 20 columns</p>\n</div>"
     },
     "execution_count": 27,
     "metadata": {},
     "output_type": "execute_result"
    }
   ],
   "source": [
    "mod_edu = df[\"Education_Level\"].mode()\n",
    "mod_edu = mod_edu[0]\n",
    "new_col = df[\"Education_Level\"].replace(\"Unknown\", mod_edu)\n",
    "df[\"Education_Level\"] = new_col.values\n",
    "df"
   ],
   "metadata": {
    "collapsed": false,
    "ExecuteTime": {
     "end_time": "2024-05-27T13:54:24.759908Z",
     "start_time": "2024-05-27T13:54:24.659855700Z"
    }
   },
   "id": "9a409f9555255db6",
   "execution_count": 27
  },
  {
   "cell_type": "code",
   "outputs": [
    {
     "data": {
      "text/plain": "       CLIENTNUM  Customer_Age Gender  Dependent_count Education_Level  \\\n0      768805383          45.0      M                3     High School   \n1      818770008          49.0      F                5        Graduate   \n2      713982108          51.0      M                3        Graduate   \n3      769911858          40.0      F                4     High School   \n4      709106358          40.0      M                3      Uneducated   \n...          ...           ...    ...              ...             ...   \n10162  718673358          35.0      M                3       Doctorate   \n10163  715207458          46.0      F                1        Graduate   \n10164  803665983          52.0      M                0        Graduate   \n10165  713183508          39.0      F                1     High School   \n10166  718893333          52.0      M                3        Graduate   \n\n      Marital_Status Income_Category Card_Category  Months_on_book  \\\n0            Married     $60K - $80K          Blue            39.0   \n1                NaN  Less than $40K          Blue            44.0   \n2            Married    $80K - $120K          Blue            36.0   \n3                NaN  Less than $40K          Blue            34.0   \n4            Married     $60K - $80K           NaN            21.0   \n...              ...             ...           ...             ...   \n10162            NaN    $80K - $120K          Blue            30.0   \n10163         Single  Less than $40K          Blue            39.0   \n10164            NaN     $60K - $80K          Blue            46.0   \n10165            NaN  Less than $40K           NaN            36.0   \n10166            NaN     $60K - $80K          Blue            36.0   \n\n       Total_Relationship_Count  Months_Inactive_12_mon  \\\n0                           5.0                       1   \n1                           6.0                       1   \n2                           4.0                       1   \n3                           3.0                       4   \n4                           5.0                       1   \n...                         ...                     ...   \n10162                       5.0                       3   \n10163                       2.0                       2   \n10164                       3.0                       2   \n10165                       1.0                       3   \n10166                       3.0                       3   \n\n       Contacts_Count_12_mon  Credit_Limit  Total_Revolving_Bal  \\\n0                          3       12691.0                  777   \n1                          2        8256.0                  864   \n2                          0        3418.0                    0   \n3                          1        3313.0                 2517   \n4                          0        4716.0                    0   \n...                      ...           ...                  ...   \n10162                      4       13590.0                 1528   \n10163                      1        2029.0                 1074   \n10164                      4        2742.0                 2184   \n10165                      2        2751.0                 1158   \n10166                      2       18336.0                 2077   \n\n       Total_Amt_Chng_Q4_Q1  Total_Trans_Amt  Total_Trans_Ct  \\\n0                     1.335             1144              42   \n1                     1.541             1291              33   \n2                     2.594             1887              20   \n3                     1.405             1171              20   \n4                     2.175              816              28   \n...                     ...              ...             ...   \n10162                 0.728             2137              52   \n10163                 0.514             4802              90   \n10164                 0.592             3829              72   \n10165                 0.821             4861              82   \n10166                 0.718             7509              84   \n\n       Total_Ct_Chng_Q4_Q1  Avg_Utilization_Ratio  Unnamed: 19  \n0                    1.625                  0.061          NaN  \n1                    3.714                  0.105          NaN  \n2                    2.333                  0.000          NaN  \n3                    2.333                  0.760          NaN  \n4                    2.500                  0.000          NaN  \n...                    ...                    ...          ...  \n10162                0.486                  0.112          NaN  \n10163                0.800                  0.529          NaN  \n10164                0.532                  0.796          NaN  \n10165                0.822                  0.421          NaN  \n10166                0.647                  0.113          NaN  \n\n[10167 rows x 20 columns]",
      "text/html": "<div>\n<style scoped>\n    .dataframe tbody tr th:only-of-type {\n        vertical-align: middle;\n    }\n\n    .dataframe tbody tr th {\n        vertical-align: top;\n    }\n\n    .dataframe thead th {\n        text-align: right;\n    }\n</style>\n<table border=\"1\" class=\"dataframe\">\n  <thead>\n    <tr style=\"text-align: right;\">\n      <th></th>\n      <th>CLIENTNUM</th>\n      <th>Customer_Age</th>\n      <th>Gender</th>\n      <th>Dependent_count</th>\n      <th>Education_Level</th>\n      <th>Marital_Status</th>\n      <th>Income_Category</th>\n      <th>Card_Category</th>\n      <th>Months_on_book</th>\n      <th>Total_Relationship_Count</th>\n      <th>Months_Inactive_12_mon</th>\n      <th>Contacts_Count_12_mon</th>\n      <th>Credit_Limit</th>\n      <th>Total_Revolving_Bal</th>\n      <th>Total_Amt_Chng_Q4_Q1</th>\n      <th>Total_Trans_Amt</th>\n      <th>Total_Trans_Ct</th>\n      <th>Total_Ct_Chng_Q4_Q1</th>\n      <th>Avg_Utilization_Ratio</th>\n      <th>Unnamed: 19</th>\n    </tr>\n  </thead>\n  <tbody>\n    <tr>\n      <th>0</th>\n      <td>768805383</td>\n      <td>45.0</td>\n      <td>M</td>\n      <td>3</td>\n      <td>High School</td>\n      <td>Married</td>\n      <td>$60K - $80K</td>\n      <td>Blue</td>\n      <td>39.0</td>\n      <td>5.0</td>\n      <td>1</td>\n      <td>3</td>\n      <td>12691.0</td>\n      <td>777</td>\n      <td>1.335</td>\n      <td>1144</td>\n      <td>42</td>\n      <td>1.625</td>\n      <td>0.061</td>\n      <td>NaN</td>\n    </tr>\n    <tr>\n      <th>1</th>\n      <td>818770008</td>\n      <td>49.0</td>\n      <td>F</td>\n      <td>5</td>\n      <td>Graduate</td>\n      <td>NaN</td>\n      <td>Less than $40K</td>\n      <td>Blue</td>\n      <td>44.0</td>\n      <td>6.0</td>\n      <td>1</td>\n      <td>2</td>\n      <td>8256.0</td>\n      <td>864</td>\n      <td>1.541</td>\n      <td>1291</td>\n      <td>33</td>\n      <td>3.714</td>\n      <td>0.105</td>\n      <td>NaN</td>\n    </tr>\n    <tr>\n      <th>2</th>\n      <td>713982108</td>\n      <td>51.0</td>\n      <td>M</td>\n      <td>3</td>\n      <td>Graduate</td>\n      <td>Married</td>\n      <td>$80K - $120K</td>\n      <td>Blue</td>\n      <td>36.0</td>\n      <td>4.0</td>\n      <td>1</td>\n      <td>0</td>\n      <td>3418.0</td>\n      <td>0</td>\n      <td>2.594</td>\n      <td>1887</td>\n      <td>20</td>\n      <td>2.333</td>\n      <td>0.000</td>\n      <td>NaN</td>\n    </tr>\n    <tr>\n      <th>3</th>\n      <td>769911858</td>\n      <td>40.0</td>\n      <td>F</td>\n      <td>4</td>\n      <td>High School</td>\n      <td>NaN</td>\n      <td>Less than $40K</td>\n      <td>Blue</td>\n      <td>34.0</td>\n      <td>3.0</td>\n      <td>4</td>\n      <td>1</td>\n      <td>3313.0</td>\n      <td>2517</td>\n      <td>1.405</td>\n      <td>1171</td>\n      <td>20</td>\n      <td>2.333</td>\n      <td>0.760</td>\n      <td>NaN</td>\n    </tr>\n    <tr>\n      <th>4</th>\n      <td>709106358</td>\n      <td>40.0</td>\n      <td>M</td>\n      <td>3</td>\n      <td>Uneducated</td>\n      <td>Married</td>\n      <td>$60K - $80K</td>\n      <td>NaN</td>\n      <td>21.0</td>\n      <td>5.0</td>\n      <td>1</td>\n      <td>0</td>\n      <td>4716.0</td>\n      <td>0</td>\n      <td>2.175</td>\n      <td>816</td>\n      <td>28</td>\n      <td>2.500</td>\n      <td>0.000</td>\n      <td>NaN</td>\n    </tr>\n    <tr>\n      <th>...</th>\n      <td>...</td>\n      <td>...</td>\n      <td>...</td>\n      <td>...</td>\n      <td>...</td>\n      <td>...</td>\n      <td>...</td>\n      <td>...</td>\n      <td>...</td>\n      <td>...</td>\n      <td>...</td>\n      <td>...</td>\n      <td>...</td>\n      <td>...</td>\n      <td>...</td>\n      <td>...</td>\n      <td>...</td>\n      <td>...</td>\n      <td>...</td>\n      <td>...</td>\n    </tr>\n    <tr>\n      <th>10162</th>\n      <td>718673358</td>\n      <td>35.0</td>\n      <td>M</td>\n      <td>3</td>\n      <td>Doctorate</td>\n      <td>NaN</td>\n      <td>$80K - $120K</td>\n      <td>Blue</td>\n      <td>30.0</td>\n      <td>5.0</td>\n      <td>3</td>\n      <td>4</td>\n      <td>13590.0</td>\n      <td>1528</td>\n      <td>0.728</td>\n      <td>2137</td>\n      <td>52</td>\n      <td>0.486</td>\n      <td>0.112</td>\n      <td>NaN</td>\n    </tr>\n    <tr>\n      <th>10163</th>\n      <td>715207458</td>\n      <td>46.0</td>\n      <td>F</td>\n      <td>1</td>\n      <td>Graduate</td>\n      <td>Single</td>\n      <td>Less than $40K</td>\n      <td>Blue</td>\n      <td>39.0</td>\n      <td>2.0</td>\n      <td>2</td>\n      <td>1</td>\n      <td>2029.0</td>\n      <td>1074</td>\n      <td>0.514</td>\n      <td>4802</td>\n      <td>90</td>\n      <td>0.800</td>\n      <td>0.529</td>\n      <td>NaN</td>\n    </tr>\n    <tr>\n      <th>10164</th>\n      <td>803665983</td>\n      <td>52.0</td>\n      <td>M</td>\n      <td>0</td>\n      <td>Graduate</td>\n      <td>NaN</td>\n      <td>$60K - $80K</td>\n      <td>Blue</td>\n      <td>46.0</td>\n      <td>3.0</td>\n      <td>2</td>\n      <td>4</td>\n      <td>2742.0</td>\n      <td>2184</td>\n      <td>0.592</td>\n      <td>3829</td>\n      <td>72</td>\n      <td>0.532</td>\n      <td>0.796</td>\n      <td>NaN</td>\n    </tr>\n    <tr>\n      <th>10165</th>\n      <td>713183508</td>\n      <td>39.0</td>\n      <td>F</td>\n      <td>1</td>\n      <td>High School</td>\n      <td>NaN</td>\n      <td>Less than $40K</td>\n      <td>NaN</td>\n      <td>36.0</td>\n      <td>1.0</td>\n      <td>3</td>\n      <td>2</td>\n      <td>2751.0</td>\n      <td>1158</td>\n      <td>0.821</td>\n      <td>4861</td>\n      <td>82</td>\n      <td>0.822</td>\n      <td>0.421</td>\n      <td>NaN</td>\n    </tr>\n    <tr>\n      <th>10166</th>\n      <td>718893333</td>\n      <td>52.0</td>\n      <td>M</td>\n      <td>3</td>\n      <td>Graduate</td>\n      <td>NaN</td>\n      <td>$60K - $80K</td>\n      <td>Blue</td>\n      <td>36.0</td>\n      <td>3.0</td>\n      <td>3</td>\n      <td>2</td>\n      <td>18336.0</td>\n      <td>2077</td>\n      <td>0.718</td>\n      <td>7509</td>\n      <td>84</td>\n      <td>0.647</td>\n      <td>0.113</td>\n      <td>NaN</td>\n    </tr>\n  </tbody>\n</table>\n<p>10167 rows × 20 columns</p>\n</div>"
     },
     "execution_count": 28,
     "metadata": {},
     "output_type": "execute_result"
    }
   ],
   "source": [
    "mod_inc = df[\"Income_Category\"].mode()\n",
    "mod_inc = mod_inc[0]\n",
    "new_col = df[\"Income_Category\"].replace(\"Unknown\", mod_inc)\n",
    "df[\"Income_Category\"] = new_col.values\n",
    "df"
   ],
   "metadata": {
    "collapsed": false,
    "ExecuteTime": {
     "end_time": "2024-05-27T13:54:24.795360300Z",
     "start_time": "2024-05-27T13:54:24.690820400Z"
    }
   },
   "id": "64b6adb989e73a7a",
   "execution_count": 28
  },
  {
   "cell_type": "code",
   "outputs": [
    {
     "data": {
      "text/plain": "Card_Category\nBlue        7666\nSilver       464\nGold          97\nPlatinum      16\nName: count, dtype: int64"
     },
     "execution_count": 29,
     "metadata": {},
     "output_type": "execute_result"
    }
   ],
   "source": [
    "mod_card_cat = df[\"Card_Category\"].value_counts()\n",
    "mod_card_cat"
   ],
   "metadata": {
    "collapsed": false,
    "ExecuteTime": {
     "end_time": "2024-05-27T13:54:24.813246300Z",
     "start_time": "2024-05-27T13:54:24.724497500Z"
    }
   },
   "id": "82bbe72a7e6c96be",
   "execution_count": 29
  },
  {
   "cell_type": "code",
   "outputs": [
    {
     "data": {
      "text/plain": "       CLIENTNUM  Customer_Age Gender  Dependent_count Education_Level  \\\n0      768805383          45.0      M                3     High School   \n1      818770008          49.0      F                5        Graduate   \n2      713982108          51.0      M                3        Graduate   \n3      769911858          40.0      F                4     High School   \n4      709106358          40.0      M                3      Uneducated   \n...          ...           ...    ...              ...             ...   \n10162  718673358          35.0      M                3       Doctorate   \n10163  715207458          46.0      F                1        Graduate   \n10164  803665983          52.0      M                0        Graduate   \n10165  713183508          39.0      F                1     High School   \n10166  718893333          52.0      M                3        Graduate   \n\n      Marital_Status Income_Category Card_Category  Months_on_book  \\\n0            Married     $60K - $80K          Blue            39.0   \n1                NaN  Less than $40K          Blue            44.0   \n2            Married    $80K - $120K          Blue            36.0   \n3                NaN  Less than $40K          Blue            34.0   \n4            Married     $60K - $80K          Blue            21.0   \n...              ...             ...           ...             ...   \n10162            NaN    $80K - $120K          Blue            30.0   \n10163         Single  Less than $40K          Blue            39.0   \n10164            NaN     $60K - $80K          Blue            46.0   \n10165            NaN  Less than $40K          Blue            36.0   \n10166            NaN     $60K - $80K          Blue            36.0   \n\n       Total_Relationship_Count  Months_Inactive_12_mon  \\\n0                           5.0                       1   \n1                           6.0                       1   \n2                           4.0                       1   \n3                           3.0                       4   \n4                           5.0                       1   \n...                         ...                     ...   \n10162                       5.0                       3   \n10163                       2.0                       2   \n10164                       3.0                       2   \n10165                       1.0                       3   \n10166                       3.0                       3   \n\n       Contacts_Count_12_mon  Credit_Limit  Total_Revolving_Bal  \\\n0                          3       12691.0                  777   \n1                          2        8256.0                  864   \n2                          0        3418.0                    0   \n3                          1        3313.0                 2517   \n4                          0        4716.0                    0   \n...                      ...           ...                  ...   \n10162                      4       13590.0                 1528   \n10163                      1        2029.0                 1074   \n10164                      4        2742.0                 2184   \n10165                      2        2751.0                 1158   \n10166                      2       18336.0                 2077   \n\n       Total_Amt_Chng_Q4_Q1  Total_Trans_Amt  Total_Trans_Ct  \\\n0                     1.335             1144              42   \n1                     1.541             1291              33   \n2                     2.594             1887              20   \n3                     1.405             1171              20   \n4                     2.175              816              28   \n...                     ...              ...             ...   \n10162                 0.728             2137              52   \n10163                 0.514             4802              90   \n10164                 0.592             3829              72   \n10165                 0.821             4861              82   \n10166                 0.718             7509              84   \n\n       Total_Ct_Chng_Q4_Q1  Avg_Utilization_Ratio  Unnamed: 19  \n0                    1.625                  0.061          NaN  \n1                    3.714                  0.105          NaN  \n2                    2.333                  0.000          NaN  \n3                    2.333                  0.760          NaN  \n4                    2.500                  0.000          NaN  \n...                    ...                    ...          ...  \n10162                0.486                  0.112          NaN  \n10163                0.800                  0.529          NaN  \n10164                0.532                  0.796          NaN  \n10165                0.822                  0.421          NaN  \n10166                0.647                  0.113          NaN  \n\n[10167 rows x 20 columns]",
      "text/html": "<div>\n<style scoped>\n    .dataframe tbody tr th:only-of-type {\n        vertical-align: middle;\n    }\n\n    .dataframe tbody tr th {\n        vertical-align: top;\n    }\n\n    .dataframe thead th {\n        text-align: right;\n    }\n</style>\n<table border=\"1\" class=\"dataframe\">\n  <thead>\n    <tr style=\"text-align: right;\">\n      <th></th>\n      <th>CLIENTNUM</th>\n      <th>Customer_Age</th>\n      <th>Gender</th>\n      <th>Dependent_count</th>\n      <th>Education_Level</th>\n      <th>Marital_Status</th>\n      <th>Income_Category</th>\n      <th>Card_Category</th>\n      <th>Months_on_book</th>\n      <th>Total_Relationship_Count</th>\n      <th>Months_Inactive_12_mon</th>\n      <th>Contacts_Count_12_mon</th>\n      <th>Credit_Limit</th>\n      <th>Total_Revolving_Bal</th>\n      <th>Total_Amt_Chng_Q4_Q1</th>\n      <th>Total_Trans_Amt</th>\n      <th>Total_Trans_Ct</th>\n      <th>Total_Ct_Chng_Q4_Q1</th>\n      <th>Avg_Utilization_Ratio</th>\n      <th>Unnamed: 19</th>\n    </tr>\n  </thead>\n  <tbody>\n    <tr>\n      <th>0</th>\n      <td>768805383</td>\n      <td>45.0</td>\n      <td>M</td>\n      <td>3</td>\n      <td>High School</td>\n      <td>Married</td>\n      <td>$60K - $80K</td>\n      <td>Blue</td>\n      <td>39.0</td>\n      <td>5.0</td>\n      <td>1</td>\n      <td>3</td>\n      <td>12691.0</td>\n      <td>777</td>\n      <td>1.335</td>\n      <td>1144</td>\n      <td>42</td>\n      <td>1.625</td>\n      <td>0.061</td>\n      <td>NaN</td>\n    </tr>\n    <tr>\n      <th>1</th>\n      <td>818770008</td>\n      <td>49.0</td>\n      <td>F</td>\n      <td>5</td>\n      <td>Graduate</td>\n      <td>NaN</td>\n      <td>Less than $40K</td>\n      <td>Blue</td>\n      <td>44.0</td>\n      <td>6.0</td>\n      <td>1</td>\n      <td>2</td>\n      <td>8256.0</td>\n      <td>864</td>\n      <td>1.541</td>\n      <td>1291</td>\n      <td>33</td>\n      <td>3.714</td>\n      <td>0.105</td>\n      <td>NaN</td>\n    </tr>\n    <tr>\n      <th>2</th>\n      <td>713982108</td>\n      <td>51.0</td>\n      <td>M</td>\n      <td>3</td>\n      <td>Graduate</td>\n      <td>Married</td>\n      <td>$80K - $120K</td>\n      <td>Blue</td>\n      <td>36.0</td>\n      <td>4.0</td>\n      <td>1</td>\n      <td>0</td>\n      <td>3418.0</td>\n      <td>0</td>\n      <td>2.594</td>\n      <td>1887</td>\n      <td>20</td>\n      <td>2.333</td>\n      <td>0.000</td>\n      <td>NaN</td>\n    </tr>\n    <tr>\n      <th>3</th>\n      <td>769911858</td>\n      <td>40.0</td>\n      <td>F</td>\n      <td>4</td>\n      <td>High School</td>\n      <td>NaN</td>\n      <td>Less than $40K</td>\n      <td>Blue</td>\n      <td>34.0</td>\n      <td>3.0</td>\n      <td>4</td>\n      <td>1</td>\n      <td>3313.0</td>\n      <td>2517</td>\n      <td>1.405</td>\n      <td>1171</td>\n      <td>20</td>\n      <td>2.333</td>\n      <td>0.760</td>\n      <td>NaN</td>\n    </tr>\n    <tr>\n      <th>4</th>\n      <td>709106358</td>\n      <td>40.0</td>\n      <td>M</td>\n      <td>3</td>\n      <td>Uneducated</td>\n      <td>Married</td>\n      <td>$60K - $80K</td>\n      <td>Blue</td>\n      <td>21.0</td>\n      <td>5.0</td>\n      <td>1</td>\n      <td>0</td>\n      <td>4716.0</td>\n      <td>0</td>\n      <td>2.175</td>\n      <td>816</td>\n      <td>28</td>\n      <td>2.500</td>\n      <td>0.000</td>\n      <td>NaN</td>\n    </tr>\n    <tr>\n      <th>...</th>\n      <td>...</td>\n      <td>...</td>\n      <td>...</td>\n      <td>...</td>\n      <td>...</td>\n      <td>...</td>\n      <td>...</td>\n      <td>...</td>\n      <td>...</td>\n      <td>...</td>\n      <td>...</td>\n      <td>...</td>\n      <td>...</td>\n      <td>...</td>\n      <td>...</td>\n      <td>...</td>\n      <td>...</td>\n      <td>...</td>\n      <td>...</td>\n      <td>...</td>\n    </tr>\n    <tr>\n      <th>10162</th>\n      <td>718673358</td>\n      <td>35.0</td>\n      <td>M</td>\n      <td>3</td>\n      <td>Doctorate</td>\n      <td>NaN</td>\n      <td>$80K - $120K</td>\n      <td>Blue</td>\n      <td>30.0</td>\n      <td>5.0</td>\n      <td>3</td>\n      <td>4</td>\n      <td>13590.0</td>\n      <td>1528</td>\n      <td>0.728</td>\n      <td>2137</td>\n      <td>52</td>\n      <td>0.486</td>\n      <td>0.112</td>\n      <td>NaN</td>\n    </tr>\n    <tr>\n      <th>10163</th>\n      <td>715207458</td>\n      <td>46.0</td>\n      <td>F</td>\n      <td>1</td>\n      <td>Graduate</td>\n      <td>Single</td>\n      <td>Less than $40K</td>\n      <td>Blue</td>\n      <td>39.0</td>\n      <td>2.0</td>\n      <td>2</td>\n      <td>1</td>\n      <td>2029.0</td>\n      <td>1074</td>\n      <td>0.514</td>\n      <td>4802</td>\n      <td>90</td>\n      <td>0.800</td>\n      <td>0.529</td>\n      <td>NaN</td>\n    </tr>\n    <tr>\n      <th>10164</th>\n      <td>803665983</td>\n      <td>52.0</td>\n      <td>M</td>\n      <td>0</td>\n      <td>Graduate</td>\n      <td>NaN</td>\n      <td>$60K - $80K</td>\n      <td>Blue</td>\n      <td>46.0</td>\n      <td>3.0</td>\n      <td>2</td>\n      <td>4</td>\n      <td>2742.0</td>\n      <td>2184</td>\n      <td>0.592</td>\n      <td>3829</td>\n      <td>72</td>\n      <td>0.532</td>\n      <td>0.796</td>\n      <td>NaN</td>\n    </tr>\n    <tr>\n      <th>10165</th>\n      <td>713183508</td>\n      <td>39.0</td>\n      <td>F</td>\n      <td>1</td>\n      <td>High School</td>\n      <td>NaN</td>\n      <td>Less than $40K</td>\n      <td>Blue</td>\n      <td>36.0</td>\n      <td>1.0</td>\n      <td>3</td>\n      <td>2</td>\n      <td>2751.0</td>\n      <td>1158</td>\n      <td>0.821</td>\n      <td>4861</td>\n      <td>82</td>\n      <td>0.822</td>\n      <td>0.421</td>\n      <td>NaN</td>\n    </tr>\n    <tr>\n      <th>10166</th>\n      <td>718893333</td>\n      <td>52.0</td>\n      <td>M</td>\n      <td>3</td>\n      <td>Graduate</td>\n      <td>NaN</td>\n      <td>$60K - $80K</td>\n      <td>Blue</td>\n      <td>36.0</td>\n      <td>3.0</td>\n      <td>3</td>\n      <td>2</td>\n      <td>18336.0</td>\n      <td>2077</td>\n      <td>0.718</td>\n      <td>7509</td>\n      <td>84</td>\n      <td>0.647</td>\n      <td>0.113</td>\n      <td>NaN</td>\n    </tr>\n  </tbody>\n</table>\n<p>10167 rows × 20 columns</p>\n</div>"
     },
     "execution_count": 30,
     "metadata": {},
     "output_type": "execute_result"
    }
   ],
   "source": [
    "mod_card_cat = df[\"Card_Category\"].mode()\n",
    "mod_card_cat = mod_card_cat[0]\n",
    "new_col = df[\"Card_Category\"].replace(np.nan, mod_card_cat)\n",
    "df[\"Card_Category\"] = new_col.values\n",
    "df"
   ],
   "metadata": {
    "collapsed": false,
    "ExecuteTime": {
     "end_time": "2024-05-27T13:54:24.850715Z",
     "start_time": "2024-05-27T13:54:24.740332Z"
    }
   },
   "id": "7955a8fa0f9642ec",
   "execution_count": 30
  },
  {
   "cell_type": "code",
   "outputs": [
    {
     "data": {
      "text/plain": "       CLIENTNUM  Customer_Age Gender  Dependent_count Education_Level  \\\n0      768805383          45.0      M                3     High School   \n1      818770008          49.0      F                5        Graduate   \n2      713982108          51.0      M                3        Graduate   \n3      769911858          40.0      F                4     High School   \n4      709106358          40.0      M                3      Uneducated   \n...          ...           ...    ...              ...             ...   \n10162  718673358          35.0      M                3       Doctorate   \n10163  715207458          46.0      F                1        Graduate   \n10164  803665983          52.0      M                0        Graduate   \n10165  713183508          39.0      F                1     High School   \n10166  718893333          52.0      M                3        Graduate   \n\n      Marital_Status Income_Category Card_Category  Months_on_book  \\\n0            Married     $60K - $80K          Blue            39.0   \n1                NaN  Less than $40K          Blue            44.0   \n2            Married    $80K - $120K          Blue            36.0   \n3                NaN  Less than $40K          Blue            34.0   \n4            Married     $60K - $80K          Blue            21.0   \n...              ...             ...           ...             ...   \n10162            NaN    $80K - $120K          Blue            30.0   \n10163         Single  Less than $40K          Blue            39.0   \n10164            NaN     $60K - $80K          Blue            46.0   \n10165            NaN  Less than $40K          Blue            36.0   \n10166            NaN     $60K - $80K          Blue            36.0   \n\n       Total_Relationship_Count  Months_Inactive_12_mon  \\\n0                           5.0                       1   \n1                           6.0                       1   \n2                           4.0                       1   \n3                           3.0                       4   \n4                           5.0                       1   \n...                         ...                     ...   \n10162                       5.0                       3   \n10163                       2.0                       2   \n10164                       3.0                       2   \n10165                       1.0                       3   \n10166                       3.0                       3   \n\n       Contacts_Count_12_mon  Credit_Limit  Total_Revolving_Bal  \\\n0                          3       12691.0                  777   \n1                          2        8256.0                  864   \n2                          0        3418.0                    0   \n3                          1        3313.0                 2517   \n4                          0        4716.0                    0   \n...                      ...           ...                  ...   \n10162                      4       13590.0                 1528   \n10163                      1        2029.0                 1074   \n10164                      4        2742.0                 2184   \n10165                      2        2751.0                 1158   \n10166                      2       18336.0                 2077   \n\n       Total_Amt_Chng_Q4_Q1  Total_Trans_Amt  Total_Trans_Ct  \\\n0                     1.335             1144              42   \n1                     1.541             1291              33   \n2                     2.594             1887              20   \n3                     1.405             1171              20   \n4                     2.175              816              28   \n...                     ...              ...             ...   \n10162                 0.728             2137              52   \n10163                 0.514             4802              90   \n10164                 0.592             3829              72   \n10165                 0.821             4861              82   \n10166                 0.718             7509              84   \n\n       Total_Ct_Chng_Q4_Q1  Avg_Utilization_Ratio  Unnamed: 19  \n0                    1.625                  0.061          NaN  \n1                    3.714                  0.105          NaN  \n2                    2.333                  0.000          NaN  \n3                    2.333                  0.760          NaN  \n4                    2.500                  0.000          NaN  \n...                    ...                    ...          ...  \n10162                0.486                  0.112          NaN  \n10163                0.800                  0.529          NaN  \n10164                0.532                  0.796          NaN  \n10165                0.822                  0.421          NaN  \n10166                0.647                  0.113          NaN  \n\n[10167 rows x 20 columns]",
      "text/html": "<div>\n<style scoped>\n    .dataframe tbody tr th:only-of-type {\n        vertical-align: middle;\n    }\n\n    .dataframe tbody tr th {\n        vertical-align: top;\n    }\n\n    .dataframe thead th {\n        text-align: right;\n    }\n</style>\n<table border=\"1\" class=\"dataframe\">\n  <thead>\n    <tr style=\"text-align: right;\">\n      <th></th>\n      <th>CLIENTNUM</th>\n      <th>Customer_Age</th>\n      <th>Gender</th>\n      <th>Dependent_count</th>\n      <th>Education_Level</th>\n      <th>Marital_Status</th>\n      <th>Income_Category</th>\n      <th>Card_Category</th>\n      <th>Months_on_book</th>\n      <th>Total_Relationship_Count</th>\n      <th>Months_Inactive_12_mon</th>\n      <th>Contacts_Count_12_mon</th>\n      <th>Credit_Limit</th>\n      <th>Total_Revolving_Bal</th>\n      <th>Total_Amt_Chng_Q4_Q1</th>\n      <th>Total_Trans_Amt</th>\n      <th>Total_Trans_Ct</th>\n      <th>Total_Ct_Chng_Q4_Q1</th>\n      <th>Avg_Utilization_Ratio</th>\n      <th>Unnamed: 19</th>\n    </tr>\n  </thead>\n  <tbody>\n    <tr>\n      <th>0</th>\n      <td>768805383</td>\n      <td>45.0</td>\n      <td>M</td>\n      <td>3</td>\n      <td>High School</td>\n      <td>Married</td>\n      <td>$60K - $80K</td>\n      <td>Blue</td>\n      <td>39.0</td>\n      <td>5.0</td>\n      <td>1</td>\n      <td>3</td>\n      <td>12691.0</td>\n      <td>777</td>\n      <td>1.335</td>\n      <td>1144</td>\n      <td>42</td>\n      <td>1.625</td>\n      <td>0.061</td>\n      <td>NaN</td>\n    </tr>\n    <tr>\n      <th>1</th>\n      <td>818770008</td>\n      <td>49.0</td>\n      <td>F</td>\n      <td>5</td>\n      <td>Graduate</td>\n      <td>NaN</td>\n      <td>Less than $40K</td>\n      <td>Blue</td>\n      <td>44.0</td>\n      <td>6.0</td>\n      <td>1</td>\n      <td>2</td>\n      <td>8256.0</td>\n      <td>864</td>\n      <td>1.541</td>\n      <td>1291</td>\n      <td>33</td>\n      <td>3.714</td>\n      <td>0.105</td>\n      <td>NaN</td>\n    </tr>\n    <tr>\n      <th>2</th>\n      <td>713982108</td>\n      <td>51.0</td>\n      <td>M</td>\n      <td>3</td>\n      <td>Graduate</td>\n      <td>Married</td>\n      <td>$80K - $120K</td>\n      <td>Blue</td>\n      <td>36.0</td>\n      <td>4.0</td>\n      <td>1</td>\n      <td>0</td>\n      <td>3418.0</td>\n      <td>0</td>\n      <td>2.594</td>\n      <td>1887</td>\n      <td>20</td>\n      <td>2.333</td>\n      <td>0.000</td>\n      <td>NaN</td>\n    </tr>\n    <tr>\n      <th>3</th>\n      <td>769911858</td>\n      <td>40.0</td>\n      <td>F</td>\n      <td>4</td>\n      <td>High School</td>\n      <td>NaN</td>\n      <td>Less than $40K</td>\n      <td>Blue</td>\n      <td>34.0</td>\n      <td>3.0</td>\n      <td>4</td>\n      <td>1</td>\n      <td>3313.0</td>\n      <td>2517</td>\n      <td>1.405</td>\n      <td>1171</td>\n      <td>20</td>\n      <td>2.333</td>\n      <td>0.760</td>\n      <td>NaN</td>\n    </tr>\n    <tr>\n      <th>4</th>\n      <td>709106358</td>\n      <td>40.0</td>\n      <td>M</td>\n      <td>3</td>\n      <td>Uneducated</td>\n      <td>Married</td>\n      <td>$60K - $80K</td>\n      <td>Blue</td>\n      <td>21.0</td>\n      <td>5.0</td>\n      <td>1</td>\n      <td>0</td>\n      <td>4716.0</td>\n      <td>0</td>\n      <td>2.175</td>\n      <td>816</td>\n      <td>28</td>\n      <td>2.500</td>\n      <td>0.000</td>\n      <td>NaN</td>\n    </tr>\n    <tr>\n      <th>...</th>\n      <td>...</td>\n      <td>...</td>\n      <td>...</td>\n      <td>...</td>\n      <td>...</td>\n      <td>...</td>\n      <td>...</td>\n      <td>...</td>\n      <td>...</td>\n      <td>...</td>\n      <td>...</td>\n      <td>...</td>\n      <td>...</td>\n      <td>...</td>\n      <td>...</td>\n      <td>...</td>\n      <td>...</td>\n      <td>...</td>\n      <td>...</td>\n      <td>...</td>\n    </tr>\n    <tr>\n      <th>10162</th>\n      <td>718673358</td>\n      <td>35.0</td>\n      <td>M</td>\n      <td>3</td>\n      <td>Doctorate</td>\n      <td>NaN</td>\n      <td>$80K - $120K</td>\n      <td>Blue</td>\n      <td>30.0</td>\n      <td>5.0</td>\n      <td>3</td>\n      <td>4</td>\n      <td>13590.0</td>\n      <td>1528</td>\n      <td>0.728</td>\n      <td>2137</td>\n      <td>52</td>\n      <td>0.486</td>\n      <td>0.112</td>\n      <td>NaN</td>\n    </tr>\n    <tr>\n      <th>10163</th>\n      <td>715207458</td>\n      <td>46.0</td>\n      <td>F</td>\n      <td>1</td>\n      <td>Graduate</td>\n      <td>Single</td>\n      <td>Less than $40K</td>\n      <td>Blue</td>\n      <td>39.0</td>\n      <td>2.0</td>\n      <td>2</td>\n      <td>1</td>\n      <td>2029.0</td>\n      <td>1074</td>\n      <td>0.514</td>\n      <td>4802</td>\n      <td>90</td>\n      <td>0.800</td>\n      <td>0.529</td>\n      <td>NaN</td>\n    </tr>\n    <tr>\n      <th>10164</th>\n      <td>803665983</td>\n      <td>52.0</td>\n      <td>M</td>\n      <td>0</td>\n      <td>Graduate</td>\n      <td>NaN</td>\n      <td>$60K - $80K</td>\n      <td>Blue</td>\n      <td>46.0</td>\n      <td>3.0</td>\n      <td>2</td>\n      <td>4</td>\n      <td>2742.0</td>\n      <td>2184</td>\n      <td>0.592</td>\n      <td>3829</td>\n      <td>72</td>\n      <td>0.532</td>\n      <td>0.796</td>\n      <td>NaN</td>\n    </tr>\n    <tr>\n      <th>10165</th>\n      <td>713183508</td>\n      <td>39.0</td>\n      <td>F</td>\n      <td>1</td>\n      <td>High School</td>\n      <td>NaN</td>\n      <td>Less than $40K</td>\n      <td>Blue</td>\n      <td>36.0</td>\n      <td>1.0</td>\n      <td>3</td>\n      <td>2</td>\n      <td>2751.0</td>\n      <td>1158</td>\n      <td>0.821</td>\n      <td>4861</td>\n      <td>82</td>\n      <td>0.822</td>\n      <td>0.421</td>\n      <td>NaN</td>\n    </tr>\n    <tr>\n      <th>10166</th>\n      <td>718893333</td>\n      <td>52.0</td>\n      <td>M</td>\n      <td>3</td>\n      <td>Graduate</td>\n      <td>NaN</td>\n      <td>$60K - $80K</td>\n      <td>Blue</td>\n      <td>36.0</td>\n      <td>3.0</td>\n      <td>3</td>\n      <td>2</td>\n      <td>18336.0</td>\n      <td>2077</td>\n      <td>0.718</td>\n      <td>7509</td>\n      <td>84</td>\n      <td>0.647</td>\n      <td>0.113</td>\n      <td>NaN</td>\n    </tr>\n  </tbody>\n</table>\n<p>10167 rows × 20 columns</p>\n</div>"
     },
     "execution_count": 31,
     "metadata": {},
     "output_type": "execute_result"
    }
   ],
   "source": [
    "mean_month = df[\"Months_on_book\"].mean()\n",
    "mean_month.round()\n",
    "new_col = df[\"Months_on_book\"].replace(np.nan, mean_month)\n",
    "df[\"Months_on_book\"] = new_col.values\n",
    "df"
   ],
   "metadata": {
    "collapsed": false,
    "ExecuteTime": {
     "end_time": "2024-05-27T13:54:24.868166600Z",
     "start_time": "2024-05-27T13:54:24.770400400Z"
    }
   },
   "id": "411364b4f2d4de92",
   "execution_count": 31
  },
  {
   "cell_type": "code",
   "outputs": [
    {
     "data": {
      "text/plain": "Total_Relationship_Count\n3.0    2310\n4.0    1919\n5.0    1891\n6.0    1873\n2.0    1240\n1.0     914\nName: count, dtype: int64"
     },
     "execution_count": 32,
     "metadata": {},
     "output_type": "execute_result"
    }
   ],
   "source": [
    "mean_total = df[\"Total_Relationship_Count\"].value_counts()\n",
    "mean_total"
   ],
   "metadata": {
    "collapsed": false,
    "ExecuteTime": {
     "end_time": "2024-05-27T13:54:24.888176100Z",
     "start_time": "2024-05-27T13:54:24.802911700Z"
    }
   },
   "id": "424af7d2794c4f86",
   "execution_count": 32
  },
  {
   "cell_type": "code",
   "outputs": [],
   "source": [
    "mean_total = df[\"Total_Relationship_Count\"].mean()\n",
    "mean_total = mean_total.round()\n",
    "\n",
    "\n"
   ],
   "metadata": {
    "collapsed": false,
    "ExecuteTime": {
     "end_time": "2024-05-27T13:54:24.907688300Z",
     "start_time": "2024-05-27T13:54:24.818415300Z"
    }
   },
   "id": "8810b8bae7adb776",
   "execution_count": 33
  },
  {
   "cell_type": "code",
   "outputs": [
    {
     "data": {
      "text/plain": "       CLIENTNUM  Customer_Age Gender  Dependent_count Education_Level  \\\n0      768805383          45.0      M                3     High School   \n1      818770008          49.0      F                5        Graduate   \n2      713982108          51.0      M                3        Graduate   \n3      769911858          40.0      F                4     High School   \n4      709106358          40.0      M                3      Uneducated   \n...          ...           ...    ...              ...             ...   \n10162  718673358          35.0      M                3       Doctorate   \n10163  715207458          46.0      F                1        Graduate   \n10164  803665983          52.0      M                0        Graduate   \n10165  713183508          39.0      F                1     High School   \n10166  718893333          52.0      M                3        Graduate   \n\n      Marital_Status Income_Category Card_Category  Months_on_book  \\\n0            Married     $60K - $80K          Blue            39.0   \n1                NaN  Less than $40K          Blue            44.0   \n2            Married    $80K - $120K          Blue            36.0   \n3                NaN  Less than $40K          Blue            34.0   \n4            Married     $60K - $80K          Blue            21.0   \n...              ...             ...           ...             ...   \n10162            NaN    $80K - $120K          Blue            30.0   \n10163         Single  Less than $40K          Blue            39.0   \n10164            NaN     $60K - $80K          Blue            46.0   \n10165            NaN  Less than $40K          Blue            36.0   \n10166            NaN     $60K - $80K          Blue            36.0   \n\n       Total_Relationship_Count  Months_Inactive_12_mon  \\\n0                           5.0                       1   \n1                           6.0                       1   \n2                           4.0                       1   \n3                           3.0                       4   \n4                           5.0                       1   \n...                         ...                     ...   \n10162                       5.0                       3   \n10163                       2.0                       2   \n10164                       3.0                       2   \n10165                       1.0                       3   \n10166                       3.0                       3   \n\n       Contacts_Count_12_mon  Credit_Limit  Total_Revolving_Bal  \\\n0                          3       12691.0                  777   \n1                          2        8256.0                  864   \n2                          0        3418.0                    0   \n3                          1        3313.0                 2517   \n4                          0        4716.0                    0   \n...                      ...           ...                  ...   \n10162                      4       13590.0                 1528   \n10163                      1        2029.0                 1074   \n10164                      4        2742.0                 2184   \n10165                      2        2751.0                 1158   \n10166                      2       18336.0                 2077   \n\n       Total_Amt_Chng_Q4_Q1  Total_Trans_Amt  Total_Trans_Ct  \\\n0                     1.335             1144              42   \n1                     1.541             1291              33   \n2                     2.594             1887              20   \n3                     1.405             1171              20   \n4                     2.175              816              28   \n...                     ...              ...             ...   \n10162                 0.728             2137              52   \n10163                 0.514             4802              90   \n10164                 0.592             3829              72   \n10165                 0.821             4861              82   \n10166                 0.718             7509              84   \n\n       Total_Ct_Chng_Q4_Q1  Avg_Utilization_Ratio  Unnamed: 19  \n0                    1.625                  0.061          NaN  \n1                    3.714                  0.105          NaN  \n2                    2.333                  0.000          NaN  \n3                    2.333                  0.760          NaN  \n4                    2.500                  0.000          NaN  \n...                    ...                    ...          ...  \n10162                0.486                  0.112          NaN  \n10163                0.800                  0.529          NaN  \n10164                0.532                  0.796          NaN  \n10165                0.822                  0.421          NaN  \n10166                0.647                  0.113          NaN  \n\n[10167 rows x 20 columns]",
      "text/html": "<div>\n<style scoped>\n    .dataframe tbody tr th:only-of-type {\n        vertical-align: middle;\n    }\n\n    .dataframe tbody tr th {\n        vertical-align: top;\n    }\n\n    .dataframe thead th {\n        text-align: right;\n    }\n</style>\n<table border=\"1\" class=\"dataframe\">\n  <thead>\n    <tr style=\"text-align: right;\">\n      <th></th>\n      <th>CLIENTNUM</th>\n      <th>Customer_Age</th>\n      <th>Gender</th>\n      <th>Dependent_count</th>\n      <th>Education_Level</th>\n      <th>Marital_Status</th>\n      <th>Income_Category</th>\n      <th>Card_Category</th>\n      <th>Months_on_book</th>\n      <th>Total_Relationship_Count</th>\n      <th>Months_Inactive_12_mon</th>\n      <th>Contacts_Count_12_mon</th>\n      <th>Credit_Limit</th>\n      <th>Total_Revolving_Bal</th>\n      <th>Total_Amt_Chng_Q4_Q1</th>\n      <th>Total_Trans_Amt</th>\n      <th>Total_Trans_Ct</th>\n      <th>Total_Ct_Chng_Q4_Q1</th>\n      <th>Avg_Utilization_Ratio</th>\n      <th>Unnamed: 19</th>\n    </tr>\n  </thead>\n  <tbody>\n    <tr>\n      <th>0</th>\n      <td>768805383</td>\n      <td>45.0</td>\n      <td>M</td>\n      <td>3</td>\n      <td>High School</td>\n      <td>Married</td>\n      <td>$60K - $80K</td>\n      <td>Blue</td>\n      <td>39.0</td>\n      <td>5.0</td>\n      <td>1</td>\n      <td>3</td>\n      <td>12691.0</td>\n      <td>777</td>\n      <td>1.335</td>\n      <td>1144</td>\n      <td>42</td>\n      <td>1.625</td>\n      <td>0.061</td>\n      <td>NaN</td>\n    </tr>\n    <tr>\n      <th>1</th>\n      <td>818770008</td>\n      <td>49.0</td>\n      <td>F</td>\n      <td>5</td>\n      <td>Graduate</td>\n      <td>NaN</td>\n      <td>Less than $40K</td>\n      <td>Blue</td>\n      <td>44.0</td>\n      <td>6.0</td>\n      <td>1</td>\n      <td>2</td>\n      <td>8256.0</td>\n      <td>864</td>\n      <td>1.541</td>\n      <td>1291</td>\n      <td>33</td>\n      <td>3.714</td>\n      <td>0.105</td>\n      <td>NaN</td>\n    </tr>\n    <tr>\n      <th>2</th>\n      <td>713982108</td>\n      <td>51.0</td>\n      <td>M</td>\n      <td>3</td>\n      <td>Graduate</td>\n      <td>Married</td>\n      <td>$80K - $120K</td>\n      <td>Blue</td>\n      <td>36.0</td>\n      <td>4.0</td>\n      <td>1</td>\n      <td>0</td>\n      <td>3418.0</td>\n      <td>0</td>\n      <td>2.594</td>\n      <td>1887</td>\n      <td>20</td>\n      <td>2.333</td>\n      <td>0.000</td>\n      <td>NaN</td>\n    </tr>\n    <tr>\n      <th>3</th>\n      <td>769911858</td>\n      <td>40.0</td>\n      <td>F</td>\n      <td>4</td>\n      <td>High School</td>\n      <td>NaN</td>\n      <td>Less than $40K</td>\n      <td>Blue</td>\n      <td>34.0</td>\n      <td>3.0</td>\n      <td>4</td>\n      <td>1</td>\n      <td>3313.0</td>\n      <td>2517</td>\n      <td>1.405</td>\n      <td>1171</td>\n      <td>20</td>\n      <td>2.333</td>\n      <td>0.760</td>\n      <td>NaN</td>\n    </tr>\n    <tr>\n      <th>4</th>\n      <td>709106358</td>\n      <td>40.0</td>\n      <td>M</td>\n      <td>3</td>\n      <td>Uneducated</td>\n      <td>Married</td>\n      <td>$60K - $80K</td>\n      <td>Blue</td>\n      <td>21.0</td>\n      <td>5.0</td>\n      <td>1</td>\n      <td>0</td>\n      <td>4716.0</td>\n      <td>0</td>\n      <td>2.175</td>\n      <td>816</td>\n      <td>28</td>\n      <td>2.500</td>\n      <td>0.000</td>\n      <td>NaN</td>\n    </tr>\n    <tr>\n      <th>...</th>\n      <td>...</td>\n      <td>...</td>\n      <td>...</td>\n      <td>...</td>\n      <td>...</td>\n      <td>...</td>\n      <td>...</td>\n      <td>...</td>\n      <td>...</td>\n      <td>...</td>\n      <td>...</td>\n      <td>...</td>\n      <td>...</td>\n      <td>...</td>\n      <td>...</td>\n      <td>...</td>\n      <td>...</td>\n      <td>...</td>\n      <td>...</td>\n      <td>...</td>\n    </tr>\n    <tr>\n      <th>10162</th>\n      <td>718673358</td>\n      <td>35.0</td>\n      <td>M</td>\n      <td>3</td>\n      <td>Doctorate</td>\n      <td>NaN</td>\n      <td>$80K - $120K</td>\n      <td>Blue</td>\n      <td>30.0</td>\n      <td>5.0</td>\n      <td>3</td>\n      <td>4</td>\n      <td>13590.0</td>\n      <td>1528</td>\n      <td>0.728</td>\n      <td>2137</td>\n      <td>52</td>\n      <td>0.486</td>\n      <td>0.112</td>\n      <td>NaN</td>\n    </tr>\n    <tr>\n      <th>10163</th>\n      <td>715207458</td>\n      <td>46.0</td>\n      <td>F</td>\n      <td>1</td>\n      <td>Graduate</td>\n      <td>Single</td>\n      <td>Less than $40K</td>\n      <td>Blue</td>\n      <td>39.0</td>\n      <td>2.0</td>\n      <td>2</td>\n      <td>1</td>\n      <td>2029.0</td>\n      <td>1074</td>\n      <td>0.514</td>\n      <td>4802</td>\n      <td>90</td>\n      <td>0.800</td>\n      <td>0.529</td>\n      <td>NaN</td>\n    </tr>\n    <tr>\n      <th>10164</th>\n      <td>803665983</td>\n      <td>52.0</td>\n      <td>M</td>\n      <td>0</td>\n      <td>Graduate</td>\n      <td>NaN</td>\n      <td>$60K - $80K</td>\n      <td>Blue</td>\n      <td>46.0</td>\n      <td>3.0</td>\n      <td>2</td>\n      <td>4</td>\n      <td>2742.0</td>\n      <td>2184</td>\n      <td>0.592</td>\n      <td>3829</td>\n      <td>72</td>\n      <td>0.532</td>\n      <td>0.796</td>\n      <td>NaN</td>\n    </tr>\n    <tr>\n      <th>10165</th>\n      <td>713183508</td>\n      <td>39.0</td>\n      <td>F</td>\n      <td>1</td>\n      <td>High School</td>\n      <td>NaN</td>\n      <td>Less than $40K</td>\n      <td>Blue</td>\n      <td>36.0</td>\n      <td>1.0</td>\n      <td>3</td>\n      <td>2</td>\n      <td>2751.0</td>\n      <td>1158</td>\n      <td>0.821</td>\n      <td>4861</td>\n      <td>82</td>\n      <td>0.822</td>\n      <td>0.421</td>\n      <td>NaN</td>\n    </tr>\n    <tr>\n      <th>10166</th>\n      <td>718893333</td>\n      <td>52.0</td>\n      <td>M</td>\n      <td>3</td>\n      <td>Graduate</td>\n      <td>NaN</td>\n      <td>$60K - $80K</td>\n      <td>Blue</td>\n      <td>36.0</td>\n      <td>3.0</td>\n      <td>3</td>\n      <td>2</td>\n      <td>18336.0</td>\n      <td>2077</td>\n      <td>0.718</td>\n      <td>7509</td>\n      <td>84</td>\n      <td>0.647</td>\n      <td>0.113</td>\n      <td>NaN</td>\n    </tr>\n  </tbody>\n</table>\n<p>10167 rows × 20 columns</p>\n</div>"
     },
     "execution_count": 34,
     "metadata": {},
     "output_type": "execute_result"
    }
   ],
   "source": [
    "new_col = df[\"Total_Relationship_Count\"].replace(np.nan, mean_total)\n",
    "df[\"Total_Relationship_Count\"] = new_col.values\n",
    "df"
   ],
   "metadata": {
    "collapsed": false,
    "ExecuteTime": {
     "end_time": "2024-05-27T13:54:24.962363100Z",
     "start_time": "2024-05-27T13:54:24.833976400Z"
    }
   },
   "id": "cd2684111c7da59d",
   "execution_count": 34
  },
  {
   "cell_type": "code",
   "outputs": [],
   "source": [
    "# Encoding Non-Sequential Features Using One-Hot Encoding\n",
    "df_encoded = pd.get_dummies(df['Marital_Status'], prefix='Marital_Status')\n",
    "df_encoded = df_encoded.astype(int)\n",
    "df = pd.concat([df, df_encoded], axis=1)\n",
    "df.drop('Marital_Status', axis=1, inplace=True)\n",
    "\n",
    "df_encoded = pd.get_dummies(df['Card_Category'], prefix='Card_Category')\n",
    "df_encoded = df_encoded.astype(int)\n",
    "df = pd.concat([df, df_encoded], axis=1)\n",
    "df.drop('Card_Category', axis=1, inplace=True)\n"
   ],
   "metadata": {
    "collapsed": false,
    "ExecuteTime": {
     "end_time": "2024-05-27T13:54:24.964440800Z",
     "start_time": "2024-05-27T13:54:24.856804100Z"
    }
   },
   "id": "a9a6b6950764d380",
   "execution_count": 35
  },
  {
   "cell_type": "code",
   "outputs": [
    {
     "data": {
      "text/plain": "       CLIENTNUM  Customer_Age Gender  Dependent_count Education_Level  \\\n0      768805383          45.0      M                3     High School   \n1      818770008          49.0      F                5        Graduate   \n2      713982108          51.0      M                3        Graduate   \n3      769911858          40.0      F                4     High School   \n4      709106358          40.0      M                3      Uneducated   \n...          ...           ...    ...              ...             ...   \n10162  718673358          35.0      M                3       Doctorate   \n10163  715207458          46.0      F                1        Graduate   \n10164  803665983          52.0      M                0        Graduate   \n10165  713183508          39.0      F                1     High School   \n10166  718893333          52.0      M                3        Graduate   \n\n      Income_Category  Months_on_book  Total_Relationship_Count  \\\n0         $60K - $80K            39.0                       5.0   \n1      Less than $40K            44.0                       6.0   \n2        $80K - $120K            36.0                       4.0   \n3      Less than $40K            34.0                       3.0   \n4         $60K - $80K            21.0                       5.0   \n...               ...             ...                       ...   \n10162    $80K - $120K            30.0                       5.0   \n10163  Less than $40K            39.0                       2.0   \n10164     $60K - $80K            46.0                       3.0   \n10165  Less than $40K            36.0                       1.0   \n10166     $60K - $80K            36.0                       3.0   \n\n       Months_Inactive_12_mon  Contacts_Count_12_mon  ...  Unnamed: 19  \\\n0                           1                      3  ...          NaN   \n1                           1                      2  ...          NaN   \n2                           1                      0  ...          NaN   \n3                           4                      1  ...          NaN   \n4                           1                      0  ...          NaN   \n...                       ...                    ...  ...          ...   \n10162                       3                      4  ...          NaN   \n10163                       2                      1  ...          NaN   \n10164                       2                      4  ...          NaN   \n10165                       3                      2  ...          NaN   \n10166                       3                      2  ...          NaN   \n\n       Marital_Status_Divorced  Marital_Status_Married  Marital_Status_Single  \\\n0                            0                       1                      0   \n1                            0                       0                      0   \n2                            0                       1                      0   \n3                            0                       0                      0   \n4                            0                       1                      0   \n...                        ...                     ...                    ...   \n10162                        0                       0                      0   \n10163                        0                       0                      1   \n10164                        0                       0                      0   \n10165                        0                       0                      0   \n10166                        0                       0                      0   \n\n       Marital_Status_Unknown  Card_Category_Blue  Card_Category_Gold  \\\n0                           0                   1                   0   \n1                           0                   1                   0   \n2                           0                   1                   0   \n3                           0                   1                   0   \n4                           0                   1                   0   \n...                       ...                 ...                 ...   \n10162                       0                   1                   0   \n10163                       0                   1                   0   \n10164                       0                   1                   0   \n10165                       0                   1                   0   \n10166                       0                   1                   0   \n\n       Card_Category_Platinum  Card_Category_Silver  Credit_Limit  \n0                           0                     0       12691.0  \n1                           0                     0        8256.0  \n2                           0                     0        3418.0  \n3                           0                     0        3313.0  \n4                           0                     0        4716.0  \n...                       ...                   ...           ...  \n10162                       0                     0       13590.0  \n10163                       0                     0        2029.0  \n10164                       0                     0        2742.0  \n10165                       0                     0        2751.0  \n10166                       0                     0       18336.0  \n\n[10167 rows x 26 columns]",
      "text/html": "<div>\n<style scoped>\n    .dataframe tbody tr th:only-of-type {\n        vertical-align: middle;\n    }\n\n    .dataframe tbody tr th {\n        vertical-align: top;\n    }\n\n    .dataframe thead th {\n        text-align: right;\n    }\n</style>\n<table border=\"1\" class=\"dataframe\">\n  <thead>\n    <tr style=\"text-align: right;\">\n      <th></th>\n      <th>CLIENTNUM</th>\n      <th>Customer_Age</th>\n      <th>Gender</th>\n      <th>Dependent_count</th>\n      <th>Education_Level</th>\n      <th>Income_Category</th>\n      <th>Months_on_book</th>\n      <th>Total_Relationship_Count</th>\n      <th>Months_Inactive_12_mon</th>\n      <th>Contacts_Count_12_mon</th>\n      <th>...</th>\n      <th>Unnamed: 19</th>\n      <th>Marital_Status_Divorced</th>\n      <th>Marital_Status_Married</th>\n      <th>Marital_Status_Single</th>\n      <th>Marital_Status_Unknown</th>\n      <th>Card_Category_Blue</th>\n      <th>Card_Category_Gold</th>\n      <th>Card_Category_Platinum</th>\n      <th>Card_Category_Silver</th>\n      <th>Credit_Limit</th>\n    </tr>\n  </thead>\n  <tbody>\n    <tr>\n      <th>0</th>\n      <td>768805383</td>\n      <td>45.0</td>\n      <td>M</td>\n      <td>3</td>\n      <td>High School</td>\n      <td>$60K - $80K</td>\n      <td>39.0</td>\n      <td>5.0</td>\n      <td>1</td>\n      <td>3</td>\n      <td>...</td>\n      <td>NaN</td>\n      <td>0</td>\n      <td>1</td>\n      <td>0</td>\n      <td>0</td>\n      <td>1</td>\n      <td>0</td>\n      <td>0</td>\n      <td>0</td>\n      <td>12691.0</td>\n    </tr>\n    <tr>\n      <th>1</th>\n      <td>818770008</td>\n      <td>49.0</td>\n      <td>F</td>\n      <td>5</td>\n      <td>Graduate</td>\n      <td>Less than $40K</td>\n      <td>44.0</td>\n      <td>6.0</td>\n      <td>1</td>\n      <td>2</td>\n      <td>...</td>\n      <td>NaN</td>\n      <td>0</td>\n      <td>0</td>\n      <td>0</td>\n      <td>0</td>\n      <td>1</td>\n      <td>0</td>\n      <td>0</td>\n      <td>0</td>\n      <td>8256.0</td>\n    </tr>\n    <tr>\n      <th>2</th>\n      <td>713982108</td>\n      <td>51.0</td>\n      <td>M</td>\n      <td>3</td>\n      <td>Graduate</td>\n      <td>$80K - $120K</td>\n      <td>36.0</td>\n      <td>4.0</td>\n      <td>1</td>\n      <td>0</td>\n      <td>...</td>\n      <td>NaN</td>\n      <td>0</td>\n      <td>1</td>\n      <td>0</td>\n      <td>0</td>\n      <td>1</td>\n      <td>0</td>\n      <td>0</td>\n      <td>0</td>\n      <td>3418.0</td>\n    </tr>\n    <tr>\n      <th>3</th>\n      <td>769911858</td>\n      <td>40.0</td>\n      <td>F</td>\n      <td>4</td>\n      <td>High School</td>\n      <td>Less than $40K</td>\n      <td>34.0</td>\n      <td>3.0</td>\n      <td>4</td>\n      <td>1</td>\n      <td>...</td>\n      <td>NaN</td>\n      <td>0</td>\n      <td>0</td>\n      <td>0</td>\n      <td>0</td>\n      <td>1</td>\n      <td>0</td>\n      <td>0</td>\n      <td>0</td>\n      <td>3313.0</td>\n    </tr>\n    <tr>\n      <th>4</th>\n      <td>709106358</td>\n      <td>40.0</td>\n      <td>M</td>\n      <td>3</td>\n      <td>Uneducated</td>\n      <td>$60K - $80K</td>\n      <td>21.0</td>\n      <td>5.0</td>\n      <td>1</td>\n      <td>0</td>\n      <td>...</td>\n      <td>NaN</td>\n      <td>0</td>\n      <td>1</td>\n      <td>0</td>\n      <td>0</td>\n      <td>1</td>\n      <td>0</td>\n      <td>0</td>\n      <td>0</td>\n      <td>4716.0</td>\n    </tr>\n    <tr>\n      <th>...</th>\n      <td>...</td>\n      <td>...</td>\n      <td>...</td>\n      <td>...</td>\n      <td>...</td>\n      <td>...</td>\n      <td>...</td>\n      <td>...</td>\n      <td>...</td>\n      <td>...</td>\n      <td>...</td>\n      <td>...</td>\n      <td>...</td>\n      <td>...</td>\n      <td>...</td>\n      <td>...</td>\n      <td>...</td>\n      <td>...</td>\n      <td>...</td>\n      <td>...</td>\n      <td>...</td>\n    </tr>\n    <tr>\n      <th>10162</th>\n      <td>718673358</td>\n      <td>35.0</td>\n      <td>M</td>\n      <td>3</td>\n      <td>Doctorate</td>\n      <td>$80K - $120K</td>\n      <td>30.0</td>\n      <td>5.0</td>\n      <td>3</td>\n      <td>4</td>\n      <td>...</td>\n      <td>NaN</td>\n      <td>0</td>\n      <td>0</td>\n      <td>0</td>\n      <td>0</td>\n      <td>1</td>\n      <td>0</td>\n      <td>0</td>\n      <td>0</td>\n      <td>13590.0</td>\n    </tr>\n    <tr>\n      <th>10163</th>\n      <td>715207458</td>\n      <td>46.0</td>\n      <td>F</td>\n      <td>1</td>\n      <td>Graduate</td>\n      <td>Less than $40K</td>\n      <td>39.0</td>\n      <td>2.0</td>\n      <td>2</td>\n      <td>1</td>\n      <td>...</td>\n      <td>NaN</td>\n      <td>0</td>\n      <td>0</td>\n      <td>1</td>\n      <td>0</td>\n      <td>1</td>\n      <td>0</td>\n      <td>0</td>\n      <td>0</td>\n      <td>2029.0</td>\n    </tr>\n    <tr>\n      <th>10164</th>\n      <td>803665983</td>\n      <td>52.0</td>\n      <td>M</td>\n      <td>0</td>\n      <td>Graduate</td>\n      <td>$60K - $80K</td>\n      <td>46.0</td>\n      <td>3.0</td>\n      <td>2</td>\n      <td>4</td>\n      <td>...</td>\n      <td>NaN</td>\n      <td>0</td>\n      <td>0</td>\n      <td>0</td>\n      <td>0</td>\n      <td>1</td>\n      <td>0</td>\n      <td>0</td>\n      <td>0</td>\n      <td>2742.0</td>\n    </tr>\n    <tr>\n      <th>10165</th>\n      <td>713183508</td>\n      <td>39.0</td>\n      <td>F</td>\n      <td>1</td>\n      <td>High School</td>\n      <td>Less than $40K</td>\n      <td>36.0</td>\n      <td>1.0</td>\n      <td>3</td>\n      <td>2</td>\n      <td>...</td>\n      <td>NaN</td>\n      <td>0</td>\n      <td>0</td>\n      <td>0</td>\n      <td>0</td>\n      <td>1</td>\n      <td>0</td>\n      <td>0</td>\n      <td>0</td>\n      <td>2751.0</td>\n    </tr>\n    <tr>\n      <th>10166</th>\n      <td>718893333</td>\n      <td>52.0</td>\n      <td>M</td>\n      <td>3</td>\n      <td>Graduate</td>\n      <td>$60K - $80K</td>\n      <td>36.0</td>\n      <td>3.0</td>\n      <td>3</td>\n      <td>2</td>\n      <td>...</td>\n      <td>NaN</td>\n      <td>0</td>\n      <td>0</td>\n      <td>0</td>\n      <td>0</td>\n      <td>1</td>\n      <td>0</td>\n      <td>0</td>\n      <td>0</td>\n      <td>18336.0</td>\n    </tr>\n  </tbody>\n</table>\n<p>10167 rows × 26 columns</p>\n</div>"
     },
     "execution_count": 36,
     "metadata": {},
     "output_type": "execute_result"
    }
   ],
   "source": [
    "column_to_move = df.pop(\"Credit_Limit\")\n",
    "df.insert(len(df.columns), \"Credit_Limit\", column_to_move)\n",
    "df"
   ],
   "metadata": {
    "collapsed": false,
    "ExecuteTime": {
     "end_time": "2024-05-27T13:54:24.992270300Z",
     "start_time": "2024-05-27T13:54:24.875665Z"
    }
   },
   "id": "c749e4d19d6ad4da",
   "execution_count": 36
  },
  {
   "cell_type": "code",
   "outputs": [
    {
     "data": {
      "text/plain": "       CLIENTNUM  Customer_Age Gender  Dependent_count Education_Level  \\\n0      768805383          45.0      M                3     High School   \n1      818770008          49.0      F                5        Graduate   \n2      713982108          51.0      M                3        Graduate   \n3      769911858          40.0      F                4     High School   \n4      709106358          40.0      M                3      Uneducated   \n...          ...           ...    ...              ...             ...   \n10162  718673358          35.0      M                3       Doctorate   \n10163  715207458          46.0      F                1        Graduate   \n10164  803665983          52.0      M                0        Graduate   \n10165  713183508          39.0      F                1     High School   \n10166  718893333          52.0      M                3        Graduate   \n\n      Income_Category  Months_on_book  Total_Relationship_Count  \\\n0         $60K - $80K            39.0                       5.0   \n1      Less than $40K            44.0                       6.0   \n2        $80K - $120K            36.0                       4.0   \n3      Less than $40K            34.0                       3.0   \n4         $60K - $80K            21.0                       5.0   \n...               ...             ...                       ...   \n10162    $80K - $120K            30.0                       5.0   \n10163  Less than $40K            39.0                       2.0   \n10164     $60K - $80K            46.0                       3.0   \n10165  Less than $40K            36.0                       1.0   \n10166     $60K - $80K            36.0                       3.0   \n\n       Months_Inactive_12_mon  Contacts_Count_12_mon  ...  Unnamed: 19  \\\n0                           1                      3  ...          NaN   \n1                           1                      2  ...          NaN   \n2                           1                      0  ...          NaN   \n3                           4                      1  ...          NaN   \n4                           1                      0  ...          NaN   \n...                       ...                    ...  ...          ...   \n10162                       3                      4  ...          NaN   \n10163                       2                      1  ...          NaN   \n10164                       2                      4  ...          NaN   \n10165                       3                      2  ...          NaN   \n10166                       3                      2  ...          NaN   \n\n       Marital_Status_Divorced  Marital_Status_Married  Marital_Status_Single  \\\n0                            0                       1                      0   \n1                            0                       0                      0   \n2                            0                       1                      0   \n3                            0                       0                      0   \n4                            0                       1                      0   \n...                        ...                     ...                    ...   \n10162                        0                       0                      0   \n10163                        0                       0                      1   \n10164                        0                       0                      0   \n10165                        0                       0                      0   \n10166                        0                       0                      0   \n\n       Marital_Status_Unknown  Card_Category_Blue  Card_Category_Gold  \\\n0                           0                   1                   0   \n1                           0                   1                   0   \n2                           0                   1                   0   \n3                           0                   1                   0   \n4                           0                   1                   0   \n...                       ...                 ...                 ...   \n10162                       0                   1                   0   \n10163                       0                   1                   0   \n10164                       0                   1                   0   \n10165                       0                   1                   0   \n10166                       0                   1                   0   \n\n       Card_Category_Platinum  Card_Category_Silver  Credit_Limit  \n0                           0                     0       12691.0  \n1                           0                     0        8256.0  \n2                           0                     0        3418.0  \n3                           0                     0        3313.0  \n4                           0                     0        4716.0  \n...                       ...                   ...           ...  \n10162                       0                     0       13590.0  \n10163                       0                     0        2029.0  \n10164                       0                     0        2742.0  \n10165                       0                     0        2751.0  \n10166                       0                     0       18336.0  \n\n[10148 rows x 26 columns]",
      "text/html": "<div>\n<style scoped>\n    .dataframe tbody tr th:only-of-type {\n        vertical-align: middle;\n    }\n\n    .dataframe tbody tr th {\n        vertical-align: top;\n    }\n\n    .dataframe thead th {\n        text-align: right;\n    }\n</style>\n<table border=\"1\" class=\"dataframe\">\n  <thead>\n    <tr style=\"text-align: right;\">\n      <th></th>\n      <th>CLIENTNUM</th>\n      <th>Customer_Age</th>\n      <th>Gender</th>\n      <th>Dependent_count</th>\n      <th>Education_Level</th>\n      <th>Income_Category</th>\n      <th>Months_on_book</th>\n      <th>Total_Relationship_Count</th>\n      <th>Months_Inactive_12_mon</th>\n      <th>Contacts_Count_12_mon</th>\n      <th>...</th>\n      <th>Unnamed: 19</th>\n      <th>Marital_Status_Divorced</th>\n      <th>Marital_Status_Married</th>\n      <th>Marital_Status_Single</th>\n      <th>Marital_Status_Unknown</th>\n      <th>Card_Category_Blue</th>\n      <th>Card_Category_Gold</th>\n      <th>Card_Category_Platinum</th>\n      <th>Card_Category_Silver</th>\n      <th>Credit_Limit</th>\n    </tr>\n  </thead>\n  <tbody>\n    <tr>\n      <th>0</th>\n      <td>768805383</td>\n      <td>45.0</td>\n      <td>M</td>\n      <td>3</td>\n      <td>High School</td>\n      <td>$60K - $80K</td>\n      <td>39.0</td>\n      <td>5.0</td>\n      <td>1</td>\n      <td>3</td>\n      <td>...</td>\n      <td>NaN</td>\n      <td>0</td>\n      <td>1</td>\n      <td>0</td>\n      <td>0</td>\n      <td>1</td>\n      <td>0</td>\n      <td>0</td>\n      <td>0</td>\n      <td>12691.0</td>\n    </tr>\n    <tr>\n      <th>1</th>\n      <td>818770008</td>\n      <td>49.0</td>\n      <td>F</td>\n      <td>5</td>\n      <td>Graduate</td>\n      <td>Less than $40K</td>\n      <td>44.0</td>\n      <td>6.0</td>\n      <td>1</td>\n      <td>2</td>\n      <td>...</td>\n      <td>NaN</td>\n      <td>0</td>\n      <td>0</td>\n      <td>0</td>\n      <td>0</td>\n      <td>1</td>\n      <td>0</td>\n      <td>0</td>\n      <td>0</td>\n      <td>8256.0</td>\n    </tr>\n    <tr>\n      <th>2</th>\n      <td>713982108</td>\n      <td>51.0</td>\n      <td>M</td>\n      <td>3</td>\n      <td>Graduate</td>\n      <td>$80K - $120K</td>\n      <td>36.0</td>\n      <td>4.0</td>\n      <td>1</td>\n      <td>0</td>\n      <td>...</td>\n      <td>NaN</td>\n      <td>0</td>\n      <td>1</td>\n      <td>0</td>\n      <td>0</td>\n      <td>1</td>\n      <td>0</td>\n      <td>0</td>\n      <td>0</td>\n      <td>3418.0</td>\n    </tr>\n    <tr>\n      <th>3</th>\n      <td>769911858</td>\n      <td>40.0</td>\n      <td>F</td>\n      <td>4</td>\n      <td>High School</td>\n      <td>Less than $40K</td>\n      <td>34.0</td>\n      <td>3.0</td>\n      <td>4</td>\n      <td>1</td>\n      <td>...</td>\n      <td>NaN</td>\n      <td>0</td>\n      <td>0</td>\n      <td>0</td>\n      <td>0</td>\n      <td>1</td>\n      <td>0</td>\n      <td>0</td>\n      <td>0</td>\n      <td>3313.0</td>\n    </tr>\n    <tr>\n      <th>4</th>\n      <td>709106358</td>\n      <td>40.0</td>\n      <td>M</td>\n      <td>3</td>\n      <td>Uneducated</td>\n      <td>$60K - $80K</td>\n      <td>21.0</td>\n      <td>5.0</td>\n      <td>1</td>\n      <td>0</td>\n      <td>...</td>\n      <td>NaN</td>\n      <td>0</td>\n      <td>1</td>\n      <td>0</td>\n      <td>0</td>\n      <td>1</td>\n      <td>0</td>\n      <td>0</td>\n      <td>0</td>\n      <td>4716.0</td>\n    </tr>\n    <tr>\n      <th>...</th>\n      <td>...</td>\n      <td>...</td>\n      <td>...</td>\n      <td>...</td>\n      <td>...</td>\n      <td>...</td>\n      <td>...</td>\n      <td>...</td>\n      <td>...</td>\n      <td>...</td>\n      <td>...</td>\n      <td>...</td>\n      <td>...</td>\n      <td>...</td>\n      <td>...</td>\n      <td>...</td>\n      <td>...</td>\n      <td>...</td>\n      <td>...</td>\n      <td>...</td>\n      <td>...</td>\n    </tr>\n    <tr>\n      <th>10162</th>\n      <td>718673358</td>\n      <td>35.0</td>\n      <td>M</td>\n      <td>3</td>\n      <td>Doctorate</td>\n      <td>$80K - $120K</td>\n      <td>30.0</td>\n      <td>5.0</td>\n      <td>3</td>\n      <td>4</td>\n      <td>...</td>\n      <td>NaN</td>\n      <td>0</td>\n      <td>0</td>\n      <td>0</td>\n      <td>0</td>\n      <td>1</td>\n      <td>0</td>\n      <td>0</td>\n      <td>0</td>\n      <td>13590.0</td>\n    </tr>\n    <tr>\n      <th>10163</th>\n      <td>715207458</td>\n      <td>46.0</td>\n      <td>F</td>\n      <td>1</td>\n      <td>Graduate</td>\n      <td>Less than $40K</td>\n      <td>39.0</td>\n      <td>2.0</td>\n      <td>2</td>\n      <td>1</td>\n      <td>...</td>\n      <td>NaN</td>\n      <td>0</td>\n      <td>0</td>\n      <td>1</td>\n      <td>0</td>\n      <td>1</td>\n      <td>0</td>\n      <td>0</td>\n      <td>0</td>\n      <td>2029.0</td>\n    </tr>\n    <tr>\n      <th>10164</th>\n      <td>803665983</td>\n      <td>52.0</td>\n      <td>M</td>\n      <td>0</td>\n      <td>Graduate</td>\n      <td>$60K - $80K</td>\n      <td>46.0</td>\n      <td>3.0</td>\n      <td>2</td>\n      <td>4</td>\n      <td>...</td>\n      <td>NaN</td>\n      <td>0</td>\n      <td>0</td>\n      <td>0</td>\n      <td>0</td>\n      <td>1</td>\n      <td>0</td>\n      <td>0</td>\n      <td>0</td>\n      <td>2742.0</td>\n    </tr>\n    <tr>\n      <th>10165</th>\n      <td>713183508</td>\n      <td>39.0</td>\n      <td>F</td>\n      <td>1</td>\n      <td>High School</td>\n      <td>Less than $40K</td>\n      <td>36.0</td>\n      <td>1.0</td>\n      <td>3</td>\n      <td>2</td>\n      <td>...</td>\n      <td>NaN</td>\n      <td>0</td>\n      <td>0</td>\n      <td>0</td>\n      <td>0</td>\n      <td>1</td>\n      <td>0</td>\n      <td>0</td>\n      <td>0</td>\n      <td>2751.0</td>\n    </tr>\n    <tr>\n      <th>10166</th>\n      <td>718893333</td>\n      <td>52.0</td>\n      <td>M</td>\n      <td>3</td>\n      <td>Graduate</td>\n      <td>$60K - $80K</td>\n      <td>36.0</td>\n      <td>3.0</td>\n      <td>3</td>\n      <td>2</td>\n      <td>...</td>\n      <td>NaN</td>\n      <td>0</td>\n      <td>0</td>\n      <td>0</td>\n      <td>0</td>\n      <td>1</td>\n      <td>0</td>\n      <td>0</td>\n      <td>0</td>\n      <td>18336.0</td>\n    </tr>\n  </tbody>\n</table>\n<p>10148 rows × 26 columns</p>\n</div>"
     },
     "execution_count": 37,
     "metadata": {},
     "output_type": "execute_result"
    }
   ],
   "source": [
    "Q1 = df['Customer_Age'].quantile(0.25)\n",
    "Q3 = df['Customer_Age'].quantile(0.75)\n",
    "IQR = Q3 - Q1\n",
    "lower = Q1 - 1.5*IQR\n",
    "upper = Q3 + 1.5*IQR\n",
    " \n",
    "# Create arrays of Boolean values indicating the outlier rows\n",
    "upper_array = np.where(df['Customer_Age'] >= upper)[0]\n",
    "lower_array = np.where(df['Customer_Age'] <= lower)[0]\n",
    " \n",
    "# Removing the outliers\n",
    "df.drop(index=upper_array, inplace=True)\n",
    "df.drop(index=lower_array, inplace=True)\n",
    " \n",
    "df"
   ],
   "metadata": {
    "collapsed": false,
    "ExecuteTime": {
     "end_time": "2024-05-27T13:54:25.091631400Z",
     "start_time": "2024-05-27T13:54:24.957106800Z"
    }
   },
   "id": "8bc7ddc6c16dd36c",
   "execution_count": 37
  },
  {
   "cell_type": "code",
   "outputs": [
    {
     "data": {
      "text/plain": "       Customer_Age  Dependent_count  Months_on_book  \\\n0              45.0                3            39.0   \n1              49.0                5            44.0   \n2              51.0                3            36.0   \n3              40.0                4            34.0   \n4              40.0                3            21.0   \n...             ...              ...             ...   \n10162          35.0                3            30.0   \n10163          46.0                1            39.0   \n10164          52.0                0            46.0   \n10165          39.0                1            36.0   \n10166          52.0                3            36.0   \n\n       Total_Relationship_Count  Months_Inactive_12_mon  \\\n0                           5.0                       1   \n1                           6.0                       1   \n2                           4.0                       1   \n3                           3.0                       4   \n4                           5.0                       1   \n...                         ...                     ...   \n10162                       5.0                       3   \n10163                       2.0                       2   \n10164                       3.0                       2   \n10165                       1.0                       3   \n10166                       3.0                       3   \n\n       Contacts_Count_12_mon  Total_Revolving_Bal  Total_Amt_Chng_Q4_Q1  \\\n0                          3                  777                 1.335   \n1                          2                  864                 1.541   \n2                          0                    0                 2.594   \n3                          1                 2517                 1.405   \n4                          0                    0                 2.175   \n...                      ...                  ...                   ...   \n10162                      4                 1528                 0.728   \n10163                      1                 1074                 0.514   \n10164                      4                 2184                 0.592   \n10165                      2                 1158                 0.821   \n10166                      2                 2077                 0.718   \n\n       Total_Trans_Amt  Total_Trans_Ct  ...  Education_Level_Graduate  \\\n0                 1144              42  ...                         0   \n1                 1291              33  ...                         1   \n2                 1887              20  ...                         1   \n3                 1171              20  ...                         0   \n4                  816              28  ...                         0   \n...                ...             ...  ...                       ...   \n10162             2137              52  ...                         0   \n10163             4802              90  ...                         1   \n10164             3829              72  ...                         1   \n10165             4861              82  ...                         0   \n10166             7509              84  ...                         1   \n\n       Education_Level_High School  Education_Level_Post-Graduate  \\\n0                                1                              0   \n1                                0                              0   \n2                                0                              0   \n3                                1                              0   \n4                                0                              0   \n...                            ...                            ...   \n10162                            0                              0   \n10163                            0                              0   \n10164                            0                              0   \n10165                            1                              0   \n10166                            0                              0   \n\n       Education_Level_Uneducated  Income_Category_$120K +  \\\n0                               0                        0   \n1                               0                        0   \n2                               0                        0   \n3                               0                        0   \n4                               1                        0   \n...                           ...                      ...   \n10162                           0                        0   \n10163                           0                        0   \n10164                           0                        0   \n10165                           0                        0   \n10166                           0                        0   \n\n       Income_Category_$40K - $60K  Income_Category_$60K - $80K  \\\n0                                0                            1   \n1                                0                            0   \n2                                0                            0   \n3                                0                            0   \n4                                0                            1   \n...                            ...                          ...   \n10162                            0                            0   \n10163                            0                            0   \n10164                            0                            1   \n10165                            0                            0   \n10166                            0                            1   \n\n       Income_Category_$80K - $120K  Income_Category_Less than $40K  \\\n0                                 0                               0   \n1                                 0                               1   \n2                                 1                               0   \n3                                 0                               1   \n4                                 0                               0   \n...                             ...                             ...   \n10162                             1                               0   \n10163                             0                               1   \n10164                             0                               0   \n10165                             0                               1   \n10166                             0                               0   \n\n       Credit_Limit  \n0           12691.0  \n1            8256.0  \n2            3418.0  \n3            3313.0  \n4            4716.0  \n...             ...  \n10162       13590.0  \n10163        2029.0  \n10164        2742.0  \n10165        2751.0  \n10166       18336.0  \n\n[10167 rows x 33 columns]",
      "text/html": "<div>\n<style scoped>\n    .dataframe tbody tr th:only-of-type {\n        vertical-align: middle;\n    }\n\n    .dataframe tbody tr th {\n        vertical-align: top;\n    }\n\n    .dataframe thead th {\n        text-align: right;\n    }\n</style>\n<table border=\"1\" class=\"dataframe\">\n  <thead>\n    <tr style=\"text-align: right;\">\n      <th></th>\n      <th>Customer_Age</th>\n      <th>Dependent_count</th>\n      <th>Months_on_book</th>\n      <th>Total_Relationship_Count</th>\n      <th>Months_Inactive_12_mon</th>\n      <th>Contacts_Count_12_mon</th>\n      <th>Total_Revolving_Bal</th>\n      <th>Total_Amt_Chng_Q4_Q1</th>\n      <th>Total_Trans_Amt</th>\n      <th>Total_Trans_Ct</th>\n      <th>...</th>\n      <th>Education_Level_Graduate</th>\n      <th>Education_Level_High School</th>\n      <th>Education_Level_Post-Graduate</th>\n      <th>Education_Level_Uneducated</th>\n      <th>Income_Category_$120K +</th>\n      <th>Income_Category_$40K - $60K</th>\n      <th>Income_Category_$60K - $80K</th>\n      <th>Income_Category_$80K - $120K</th>\n      <th>Income_Category_Less than $40K</th>\n      <th>Credit_Limit</th>\n    </tr>\n  </thead>\n  <tbody>\n    <tr>\n      <th>0</th>\n      <td>45.0</td>\n      <td>3</td>\n      <td>39.0</td>\n      <td>5.0</td>\n      <td>1</td>\n      <td>3</td>\n      <td>777</td>\n      <td>1.335</td>\n      <td>1144</td>\n      <td>42</td>\n      <td>...</td>\n      <td>0</td>\n      <td>1</td>\n      <td>0</td>\n      <td>0</td>\n      <td>0</td>\n      <td>0</td>\n      <td>1</td>\n      <td>0</td>\n      <td>0</td>\n      <td>12691.0</td>\n    </tr>\n    <tr>\n      <th>1</th>\n      <td>49.0</td>\n      <td>5</td>\n      <td>44.0</td>\n      <td>6.0</td>\n      <td>1</td>\n      <td>2</td>\n      <td>864</td>\n      <td>1.541</td>\n      <td>1291</td>\n      <td>33</td>\n      <td>...</td>\n      <td>1</td>\n      <td>0</td>\n      <td>0</td>\n      <td>0</td>\n      <td>0</td>\n      <td>0</td>\n      <td>0</td>\n      <td>0</td>\n      <td>1</td>\n      <td>8256.0</td>\n    </tr>\n    <tr>\n      <th>2</th>\n      <td>51.0</td>\n      <td>3</td>\n      <td>36.0</td>\n      <td>4.0</td>\n      <td>1</td>\n      <td>0</td>\n      <td>0</td>\n      <td>2.594</td>\n      <td>1887</td>\n      <td>20</td>\n      <td>...</td>\n      <td>1</td>\n      <td>0</td>\n      <td>0</td>\n      <td>0</td>\n      <td>0</td>\n      <td>0</td>\n      <td>0</td>\n      <td>1</td>\n      <td>0</td>\n      <td>3418.0</td>\n    </tr>\n    <tr>\n      <th>3</th>\n      <td>40.0</td>\n      <td>4</td>\n      <td>34.0</td>\n      <td>3.0</td>\n      <td>4</td>\n      <td>1</td>\n      <td>2517</td>\n      <td>1.405</td>\n      <td>1171</td>\n      <td>20</td>\n      <td>...</td>\n      <td>0</td>\n      <td>1</td>\n      <td>0</td>\n      <td>0</td>\n      <td>0</td>\n      <td>0</td>\n      <td>0</td>\n      <td>0</td>\n      <td>1</td>\n      <td>3313.0</td>\n    </tr>\n    <tr>\n      <th>4</th>\n      <td>40.0</td>\n      <td>3</td>\n      <td>21.0</td>\n      <td>5.0</td>\n      <td>1</td>\n      <td>0</td>\n      <td>0</td>\n      <td>2.175</td>\n      <td>816</td>\n      <td>28</td>\n      <td>...</td>\n      <td>0</td>\n      <td>0</td>\n      <td>0</td>\n      <td>1</td>\n      <td>0</td>\n      <td>0</td>\n      <td>1</td>\n      <td>0</td>\n      <td>0</td>\n      <td>4716.0</td>\n    </tr>\n    <tr>\n      <th>...</th>\n      <td>...</td>\n      <td>...</td>\n      <td>...</td>\n      <td>...</td>\n      <td>...</td>\n      <td>...</td>\n      <td>...</td>\n      <td>...</td>\n      <td>...</td>\n      <td>...</td>\n      <td>...</td>\n      <td>...</td>\n      <td>...</td>\n      <td>...</td>\n      <td>...</td>\n      <td>...</td>\n      <td>...</td>\n      <td>...</td>\n      <td>...</td>\n      <td>...</td>\n      <td>...</td>\n    </tr>\n    <tr>\n      <th>10162</th>\n      <td>35.0</td>\n      <td>3</td>\n      <td>30.0</td>\n      <td>5.0</td>\n      <td>3</td>\n      <td>4</td>\n      <td>1528</td>\n      <td>0.728</td>\n      <td>2137</td>\n      <td>52</td>\n      <td>...</td>\n      <td>0</td>\n      <td>0</td>\n      <td>0</td>\n      <td>0</td>\n      <td>0</td>\n      <td>0</td>\n      <td>0</td>\n      <td>1</td>\n      <td>0</td>\n      <td>13590.0</td>\n    </tr>\n    <tr>\n      <th>10163</th>\n      <td>46.0</td>\n      <td>1</td>\n      <td>39.0</td>\n      <td>2.0</td>\n      <td>2</td>\n      <td>1</td>\n      <td>1074</td>\n      <td>0.514</td>\n      <td>4802</td>\n      <td>90</td>\n      <td>...</td>\n      <td>1</td>\n      <td>0</td>\n      <td>0</td>\n      <td>0</td>\n      <td>0</td>\n      <td>0</td>\n      <td>0</td>\n      <td>0</td>\n      <td>1</td>\n      <td>2029.0</td>\n    </tr>\n    <tr>\n      <th>10164</th>\n      <td>52.0</td>\n      <td>0</td>\n      <td>46.0</td>\n      <td>3.0</td>\n      <td>2</td>\n      <td>4</td>\n      <td>2184</td>\n      <td>0.592</td>\n      <td>3829</td>\n      <td>72</td>\n      <td>...</td>\n      <td>1</td>\n      <td>0</td>\n      <td>0</td>\n      <td>0</td>\n      <td>0</td>\n      <td>0</td>\n      <td>1</td>\n      <td>0</td>\n      <td>0</td>\n      <td>2742.0</td>\n    </tr>\n    <tr>\n      <th>10165</th>\n      <td>39.0</td>\n      <td>1</td>\n      <td>36.0</td>\n      <td>1.0</td>\n      <td>3</td>\n      <td>2</td>\n      <td>1158</td>\n      <td>0.821</td>\n      <td>4861</td>\n      <td>82</td>\n      <td>...</td>\n      <td>0</td>\n      <td>1</td>\n      <td>0</td>\n      <td>0</td>\n      <td>0</td>\n      <td>0</td>\n      <td>0</td>\n      <td>0</td>\n      <td>1</td>\n      <td>2751.0</td>\n    </tr>\n    <tr>\n      <th>10166</th>\n      <td>52.0</td>\n      <td>3</td>\n      <td>36.0</td>\n      <td>3.0</td>\n      <td>3</td>\n      <td>2</td>\n      <td>2077</td>\n      <td>0.718</td>\n      <td>7509</td>\n      <td>84</td>\n      <td>...</td>\n      <td>1</td>\n      <td>0</td>\n      <td>0</td>\n      <td>0</td>\n      <td>0</td>\n      <td>0</td>\n      <td>1</td>\n      <td>0</td>\n      <td>0</td>\n      <td>18336.0</td>\n    </tr>\n  </tbody>\n</table>\n<p>10167 rows × 33 columns</p>\n</div>"
     },
     "execution_count": 38,
     "metadata": {},
     "output_type": "execute_result"
    }
   ],
   "source": [
    "import pandas as pd\n",
    "import numpy as np\n",
    "import matplotlib.pyplot as plt\n",
    "\n",
    "df = pd.read_csv(\"creditPrediction.csv\")\n",
    "\n",
    "\"\"\"\"\"\n",
    "data preprocessing\n",
    "\n",
    "\"\"\"\"\"\n",
    "\n",
    "# drop last column because all NaN\n",
    "df = df.drop(\"Unnamed: 19\", axis=1)\n",
    "df = df.drop(\"CLIENTNUM\", axis=1)\n",
    "\n",
    "\n",
    "# replace mod of Marital Status for NaN and Unknown\n",
    "mod_marriage = df[\"Marital_Status\"].mode()\n",
    "mod_marriage = mod_marriage[0]\n",
    "new_col = df[\"Marital_Status\"].replace(np.nan, mod_marriage)\n",
    "df[\"Marital_Status\"] = new_col.values\n",
    "new_col = df[\"Marital_Status\"].replace(\"Unknown\", mod_marriage)\n",
    "df[\"Marital_Status\"] = new_col.values\n",
    "\n",
    "# replace mod of Gender for NaN\n",
    "mod_gender = df[\"Gender\"].mode()\n",
    "mod_gender = mod_gender[0]\n",
    "new_col = df[\"Gender\"].replace(np.nan, mod_gender)\n",
    "df[\"Gender\"] = new_col.values\n",
    "\n",
    "# replace mod of Education_Level for Unknown\n",
    "mod_edu = df[\"Education_Level\"].mode()\n",
    "mod_edu = mod_edu[0]\n",
    "new_col = df[\"Education_Level\"].replace(\"Unknown\", mod_edu)\n",
    "df[\"Education_Level\"] = new_col.values\n",
    "\n",
    "# replace mod Income_Category for Unknown\n",
    "mod_inc = df[\"Income_Category\"].mode()\n",
    "mod_inc = mod_inc[0]\n",
    "new_col = df[\"Income_Category\"].replace(\"Unknown\", mod_inc)\n",
    "df[\"Income_Category\"] = new_col.values\n",
    "\n",
    "# replace mod Card_Category for NaN\n",
    "mod_card_cat = df[\"Card_Category\"].mode()\n",
    "mod_card_cat = mod_card_cat[0]\n",
    "new_col = df[\"Card_Category\"].replace(np.nan, mod_card_cat)\n",
    "df[\"Card_Category\"] = new_col.values\n",
    "\n",
    "# replace mean Months_on_book for NaN\n",
    "mean_month = df[\"Months_on_book\"].mean()\n",
    "mean_month = mean_month.round()\n",
    "new_col = df[\"Months_on_book\"].replace(np.nan, mean_month)\n",
    "df[\"Months_on_book\"] = new_col.values\n",
    "\n",
    "# replace mean Total_Relationship_count for NaN\n",
    "mean_total = df[\"Total_Relationship_Count\"].mean()\n",
    "mean_total = mean_total.round()\n",
    "new_col = df[\"Total_Relationship_Count\"].replace(np.nan, mean_total)\n",
    "df[\"Total_Relationship_Count\"] = new_col.values\n",
    "\n",
    "# Now we convert the string type columns into numbers using One Hot Encoding\n",
    "\n",
    "df_encoded = pd.get_dummies(df['Marital_Status'], prefix='Marital_Status')\n",
    "df_encoded = df_encoded.astype(int)\n",
    "df = pd.concat([df, df_encoded], axis=1)\n",
    "df.drop('Marital_Status', axis=1, inplace=True)\n",
    "\n",
    "df_encoded = pd.get_dummies(df['Card_Category'], prefix='Card_Category')\n",
    "df_encoded = df_encoded.astype(int)\n",
    "df = pd.concat([df, df_encoded], axis=1)\n",
    "df.drop('Card_Category', axis=1, inplace=True)\n",
    "\n",
    "df_encoded = pd.get_dummies(df['Gender'], prefix='Gender')\n",
    "df_encoded = df_encoded.astype(int)\n",
    "df = pd.concat([df, df_encoded], axis=1)\n",
    "df.drop('Gender', axis=1, inplace=True)\n",
    "\n",
    "df_encoded = pd.get_dummies(df[\"Education_Level\"], prefix=\"Education_Level\")\n",
    "df_encoded = df_encoded.astype(int)\n",
    "df = pd.concat([df, df_encoded], axis=1)\n",
    "df.drop(\"Education_Level\", axis=1, inplace=True)\n",
    "\n",
    "df_encoded = pd.get_dummies(df[\"Income_Category\"], prefix=\"Income_Category\")\n",
    "df_encoded = df_encoded.astype(int)\n",
    "df = pd.concat([df, df_encoded], axis=1)\n",
    "df.drop(\"Income_Category\", axis=1, inplace=True)\n",
    "\n",
    "# move the label column to be the last column\n",
    "column_to_move = df.pop(\"Credit_Limit\")\n",
    "df.insert(len(df.columns), \"Credit_Limit\", column_to_move)\n",
    "\n",
    "df"
   ],
   "metadata": {
    "collapsed": false,
    "ExecuteTime": {
     "end_time": "2024-05-27T13:54:25.250965Z",
     "start_time": "2024-05-27T13:54:25.067822300Z"
    }
   },
   "id": "3f39c5567deed3d1",
   "execution_count": 38
  },
  {
   "cell_type": "code",
   "outputs": [
    {
     "data": {
      "text/plain": "       Customer_Age  Dependent_count  Months_on_book  \\\n0              45.0                3            39.0   \n1              49.0                5            44.0   \n2              51.0                3            36.0   \n3              40.0                4            34.0   \n4              40.0                3            21.0   \n...             ...              ...             ...   \n10162          35.0                3            30.0   \n10163          46.0                1            39.0   \n10164          52.0                0            46.0   \n10165          39.0                1            36.0   \n10166          52.0                3            36.0   \n\n       Total_Relationship_Count  Months_Inactive_12_mon  \\\n0                           5.0                       1   \n1                           6.0                       1   \n2                           4.0                       1   \n3                           3.0                       4   \n4                           5.0                       1   \n...                         ...                     ...   \n10162                       5.0                       3   \n10163                       2.0                       2   \n10164                       3.0                       2   \n10165                       1.0                       3   \n10166                       3.0                       3   \n\n       Contacts_Count_12_mon  Total_Revolving_Bal  Total_Amt_Chng_Q4_Q1  \\\n0                          3                  777                 0.791   \n1                          2                  864                 0.791   \n2                          3                    0                 0.791   \n3                          1                 2517                 0.791   \n4                          3                    0                 0.791   \n...                      ...                  ...                   ...   \n10162                      4                 1528                 0.728   \n10163                      1                 1074                 0.514   \n10164                      4                 2184                 0.592   \n10165                      2                 1158                 0.821   \n10166                      2                 2077                 0.718   \n\n       Total_Trans_Amt  Total_Trans_Ct  ...  Education_Level_Graduate  \\\n0                 1144              42  ...                         0   \n1                 1291              33  ...                         1   \n2                 1887              20  ...                         1   \n3                 1171              20  ...                         0   \n4                  816              28  ...                         0   \n...                ...             ...  ...                       ...   \n10162             2137              52  ...                         0   \n10163             4802              90  ...                         1   \n10164             3829              72  ...                         1   \n10165             4861              82  ...                         0   \n10166             7509              84  ...                         1   \n\n       Education_Level_High School  Education_Level_Post-Graduate  \\\n0                                0                              0   \n1                                0                              0   \n2                                0                              0   \n3                                0                              0   \n4                                0                              0   \n...                            ...                            ...   \n10162                            0                              0   \n10163                            0                              0   \n10164                            0                              0   \n10165                            0                              0   \n10166                            0                              0   \n\n       Education_Level_Uneducated  Income_Category_$120K +  \\\n0                               0                        0   \n1                               0                        0   \n2                               0                        0   \n3                               0                        0   \n4                               0                        0   \n...                           ...                      ...   \n10162                           0                        0   \n10163                           0                        0   \n10164                           0                        0   \n10165                           0                        0   \n10166                           0                        0   \n\n       Income_Category_$40K - $60K  Income_Category_$60K - $80K  \\\n0                                0                            0   \n1                                0                            0   \n2                                0                            0   \n3                                0                            0   \n4                                0                            0   \n...                            ...                          ...   \n10162                            0                            0   \n10163                            0                            0   \n10164                            0                            0   \n10165                            0                            0   \n10166                            0                            0   \n\n       Income_Category_$80K - $120K  Income_Category_Less than $40K  \\\n0                                 0                               0   \n1                                 0                               1   \n2                                 0                               0   \n3                                 0                               1   \n4                                 0                               0   \n...                             ...                             ...   \n10162                             0                               0   \n10163                             0                               1   \n10164                             0                               0   \n10165                             0                               1   \n10166                             0                               0   \n\n       Credit_Limit  \n0           12691.0  \n1            8256.0  \n2            3418.0  \n3            3313.0  \n4            4716.0  \n...             ...  \n10162       13590.0  \n10163        2029.0  \n10164        2742.0  \n10165        2751.0  \n10166       18336.0  \n\n[10167 rows x 33 columns]",
      "text/html": "<div>\n<style scoped>\n    .dataframe tbody tr th:only-of-type {\n        vertical-align: middle;\n    }\n\n    .dataframe tbody tr th {\n        vertical-align: top;\n    }\n\n    .dataframe thead th {\n        text-align: right;\n    }\n</style>\n<table border=\"1\" class=\"dataframe\">\n  <thead>\n    <tr style=\"text-align: right;\">\n      <th></th>\n      <th>Customer_Age</th>\n      <th>Dependent_count</th>\n      <th>Months_on_book</th>\n      <th>Total_Relationship_Count</th>\n      <th>Months_Inactive_12_mon</th>\n      <th>Contacts_Count_12_mon</th>\n      <th>Total_Revolving_Bal</th>\n      <th>Total_Amt_Chng_Q4_Q1</th>\n      <th>Total_Trans_Amt</th>\n      <th>Total_Trans_Ct</th>\n      <th>...</th>\n      <th>Education_Level_Graduate</th>\n      <th>Education_Level_High School</th>\n      <th>Education_Level_Post-Graduate</th>\n      <th>Education_Level_Uneducated</th>\n      <th>Income_Category_$120K +</th>\n      <th>Income_Category_$40K - $60K</th>\n      <th>Income_Category_$60K - $80K</th>\n      <th>Income_Category_$80K - $120K</th>\n      <th>Income_Category_Less than $40K</th>\n      <th>Credit_Limit</th>\n    </tr>\n  </thead>\n  <tbody>\n    <tr>\n      <th>0</th>\n      <td>45.0</td>\n      <td>3</td>\n      <td>39.0</td>\n      <td>5.0</td>\n      <td>1</td>\n      <td>3</td>\n      <td>777</td>\n      <td>0.791</td>\n      <td>1144</td>\n      <td>42</td>\n      <td>...</td>\n      <td>0</td>\n      <td>0</td>\n      <td>0</td>\n      <td>0</td>\n      <td>0</td>\n      <td>0</td>\n      <td>0</td>\n      <td>0</td>\n      <td>0</td>\n      <td>12691.0</td>\n    </tr>\n    <tr>\n      <th>1</th>\n      <td>49.0</td>\n      <td>5</td>\n      <td>44.0</td>\n      <td>6.0</td>\n      <td>1</td>\n      <td>2</td>\n      <td>864</td>\n      <td>0.791</td>\n      <td>1291</td>\n      <td>33</td>\n      <td>...</td>\n      <td>1</td>\n      <td>0</td>\n      <td>0</td>\n      <td>0</td>\n      <td>0</td>\n      <td>0</td>\n      <td>0</td>\n      <td>0</td>\n      <td>1</td>\n      <td>8256.0</td>\n    </tr>\n    <tr>\n      <th>2</th>\n      <td>51.0</td>\n      <td>3</td>\n      <td>36.0</td>\n      <td>4.0</td>\n      <td>1</td>\n      <td>3</td>\n      <td>0</td>\n      <td>0.791</td>\n      <td>1887</td>\n      <td>20</td>\n      <td>...</td>\n      <td>1</td>\n      <td>0</td>\n      <td>0</td>\n      <td>0</td>\n      <td>0</td>\n      <td>0</td>\n      <td>0</td>\n      <td>0</td>\n      <td>0</td>\n      <td>3418.0</td>\n    </tr>\n    <tr>\n      <th>3</th>\n      <td>40.0</td>\n      <td>4</td>\n      <td>34.0</td>\n      <td>3.0</td>\n      <td>4</td>\n      <td>1</td>\n      <td>2517</td>\n      <td>0.791</td>\n      <td>1171</td>\n      <td>20</td>\n      <td>...</td>\n      <td>0</td>\n      <td>0</td>\n      <td>0</td>\n      <td>0</td>\n      <td>0</td>\n      <td>0</td>\n      <td>0</td>\n      <td>0</td>\n      <td>1</td>\n      <td>3313.0</td>\n    </tr>\n    <tr>\n      <th>4</th>\n      <td>40.0</td>\n      <td>3</td>\n      <td>21.0</td>\n      <td>5.0</td>\n      <td>1</td>\n      <td>3</td>\n      <td>0</td>\n      <td>0.791</td>\n      <td>816</td>\n      <td>28</td>\n      <td>...</td>\n      <td>0</td>\n      <td>0</td>\n      <td>0</td>\n      <td>0</td>\n      <td>0</td>\n      <td>0</td>\n      <td>0</td>\n      <td>0</td>\n      <td>0</td>\n      <td>4716.0</td>\n    </tr>\n    <tr>\n      <th>...</th>\n      <td>...</td>\n      <td>...</td>\n      <td>...</td>\n      <td>...</td>\n      <td>...</td>\n      <td>...</td>\n      <td>...</td>\n      <td>...</td>\n      <td>...</td>\n      <td>...</td>\n      <td>...</td>\n      <td>...</td>\n      <td>...</td>\n      <td>...</td>\n      <td>...</td>\n      <td>...</td>\n      <td>...</td>\n      <td>...</td>\n      <td>...</td>\n      <td>...</td>\n      <td>...</td>\n    </tr>\n    <tr>\n      <th>10162</th>\n      <td>35.0</td>\n      <td>3</td>\n      <td>30.0</td>\n      <td>5.0</td>\n      <td>3</td>\n      <td>4</td>\n      <td>1528</td>\n      <td>0.728</td>\n      <td>2137</td>\n      <td>52</td>\n      <td>...</td>\n      <td>0</td>\n      <td>0</td>\n      <td>0</td>\n      <td>0</td>\n      <td>0</td>\n      <td>0</td>\n      <td>0</td>\n      <td>0</td>\n      <td>0</td>\n      <td>13590.0</td>\n    </tr>\n    <tr>\n      <th>10163</th>\n      <td>46.0</td>\n      <td>1</td>\n      <td>39.0</td>\n      <td>2.0</td>\n      <td>2</td>\n      <td>1</td>\n      <td>1074</td>\n      <td>0.514</td>\n      <td>4802</td>\n      <td>90</td>\n      <td>...</td>\n      <td>1</td>\n      <td>0</td>\n      <td>0</td>\n      <td>0</td>\n      <td>0</td>\n      <td>0</td>\n      <td>0</td>\n      <td>0</td>\n      <td>1</td>\n      <td>2029.0</td>\n    </tr>\n    <tr>\n      <th>10164</th>\n      <td>52.0</td>\n      <td>0</td>\n      <td>46.0</td>\n      <td>3.0</td>\n      <td>2</td>\n      <td>4</td>\n      <td>2184</td>\n      <td>0.592</td>\n      <td>3829</td>\n      <td>72</td>\n      <td>...</td>\n      <td>1</td>\n      <td>0</td>\n      <td>0</td>\n      <td>0</td>\n      <td>0</td>\n      <td>0</td>\n      <td>0</td>\n      <td>0</td>\n      <td>0</td>\n      <td>2742.0</td>\n    </tr>\n    <tr>\n      <th>10165</th>\n      <td>39.0</td>\n      <td>1</td>\n      <td>36.0</td>\n      <td>1.0</td>\n      <td>3</td>\n      <td>2</td>\n      <td>1158</td>\n      <td>0.821</td>\n      <td>4861</td>\n      <td>82</td>\n      <td>...</td>\n      <td>0</td>\n      <td>0</td>\n      <td>0</td>\n      <td>0</td>\n      <td>0</td>\n      <td>0</td>\n      <td>0</td>\n      <td>0</td>\n      <td>1</td>\n      <td>2751.0</td>\n    </tr>\n    <tr>\n      <th>10166</th>\n      <td>52.0</td>\n      <td>3</td>\n      <td>36.0</td>\n      <td>3.0</td>\n      <td>3</td>\n      <td>2</td>\n      <td>2077</td>\n      <td>0.718</td>\n      <td>7509</td>\n      <td>84</td>\n      <td>...</td>\n      <td>1</td>\n      <td>0</td>\n      <td>0</td>\n      <td>0</td>\n      <td>0</td>\n      <td>0</td>\n      <td>0</td>\n      <td>0</td>\n      <td>0</td>\n      <td>18336.0</td>\n    </tr>\n  </tbody>\n</table>\n<p>10167 rows × 33 columns</p>\n</div>"
     },
     "execution_count": 39,
     "metadata": {},
     "output_type": "execute_result"
    }
   ],
   "source": [
    "\n",
    "# Define a function to replace outliers with the mode of each column using IQR\n",
    "def replace_outliers_with_mode_iqr(data):\n",
    "    # Initialize an empty DataFrame to store the results\n",
    "    result = pd.DataFrame(index=data.index, columns=data.columns)\n",
    "\n",
    "    # Loop through each column in the DataFrame\n",
    "    for col in data.columns:\n",
    "        Q1 = data[col].quantile(0.25)  # 25th percentile (Q1)\n",
    "        Q3 = data[col].quantile(0.75)  # 75th percentile (Q3)\n",
    "        IQR = Q3 - Q1  # Interquartile Range (IQR)\n",
    "        lower_bound = Q1 - 1.5 * IQR  # Lower bound for outliers\n",
    "        upper_bound = Q3 + 1.5 * IQR  # Upper bound for outliers\n",
    "\n",
    "        # Replace outliers with mode for the current column\n",
    "        mode_val = data.loc[(data[col] >= lower_bound) & (data[col] <= upper_bound), col].mode()[0]\n",
    "        result[col] = data[col].apply(lambda x: mode_val if x < lower_bound or x > upper_bound else x)\n",
    "\n",
    "    return result\n",
    "\n",
    "# Apply the function to replace outliers with mode for each column separately\n",
    "df = replace_outliers_with_mode_iqr(df)\n",
    "df"
   ],
   "metadata": {
    "collapsed": false,
    "ExecuteTime": {
     "end_time": "2024-05-27T13:54:25.452372100Z",
     "start_time": "2024-05-27T13:54:25.174506500Z"
    }
   },
   "id": "37164f2466dcd5ac",
   "execution_count": 39
  },
  {
   "cell_type": "code",
   "outputs": [
    {
     "name": "stdout",
     "output_type": "stream",
     "text": [
      "8189146\n",
      "2862\n"
     ]
    }
   ],
   "source": [
    "from sklearn.model_selection import train_test_split \n",
    "from sklearn.linear_model import LinearRegression\n",
    "from sklearn.metrics import r2_score\n",
    "from sklearn.metrics import mean_squared_error\n",
    "from sklearn.metrics import mean_absolute_error\n",
    "from sklearn.preprocessing import MinMaxScaler\n",
    "from sklearn.preprocessing import StandardScaler\n",
    "from sklearn.linear_model import Ridge\n",
    "from sklearn.preprocessing import PolynomialFeatures\n",
    "from sklearn.ensemble import RandomForestRegressor\n",
    "from sklearn.neural_network import MLPRegressor\n",
    "from sklearn.model_selection import GridSearchCV\n",
    "import math\n",
    "\n",
    "pf = PolynomialFeatures(degree=2)\n",
    "\n",
    "scaler = StandardScaler()\n",
    "# scaler = MinMaxScaler()\n",
    "\n",
    "\n",
    "y = df.pop(\"Credit_Limit\")\n",
    "# df_normalized = pd.DataFrame(scaler.fit_transform(df), columns=df.columns)\n",
    "\n",
    "x = np.array(df)\n",
    "y = np.array(y)\n",
    "X_train, X_test, y_train, y_test = train_test_split(x, y, test_size=0.1, shuffle=True)\n",
    "X_train = scaler.fit_transform(X_train)\n",
    "X_test = scaler.transform(X_test)\n",
    " \n",
    "# X_train_poly = pf.fit_transform(X_train)\n",
    "# X_test_poly = pf.transform(X_test)\n",
    "\n",
    "# X_train_poly = scaler.fit_transform(X_train_poly)\n",
    "# X_test_poly = scaler.transform(X_test_poly)\n",
    "\n",
    "# model = LinearRegression()\n",
    "# model = Ridge()\n",
    "model = RandomForestRegressor(n_estimators=100, random_state=0, max_depth=15)\n",
    "# model = MLPRegressor(max_iter=1500, random_state=0, alpha= 0.0001, learning_rate='adaptive', learning_rate_init=0.01, hidden_layer_sizes=(100,), solver='adam')\n",
    "\n",
    "model.fit(X_train, y_train)\n",
    "y_pred = model.predict(X_test)\n",
    "\n",
    "# model.fit(X_train_poly, y_train)\n",
    "# y_pred = model.predict(X_test_poly)\n",
    "\n",
    "\n",
    "\n",
    "mse = round(mean_squared_error(y_true=y_test,y_pred=y_pred))\n",
    "# r2 = round(r2_score(y_test, y_pred), 2)\n",
    "# mae = round(mean_absolute_error(y_test, y_pred))\n",
    "rmse = round(math.sqrt(mse))\n",
    "\n",
    "# print(r2)\n",
    "print(mse)\n",
    "print(rmse)\n"
   ],
   "metadata": {
    "collapsed": false,
    "ExecuteTime": {
     "end_time": "2024-05-27T13:54:33.088086800Z",
     "start_time": "2024-05-27T13:54:25.395032900Z"
    }
   },
   "id": "7135e27086748980",
   "execution_count": 40
  },
  {
   "cell_type": "code",
   "outputs": [],
   "source": [],
   "metadata": {
    "collapsed": false,
    "ExecuteTime": {
     "end_time": "2024-05-27T13:54:33.109181200Z",
     "start_time": "2024-05-27T13:54:33.089112400Z"
    }
   },
   "id": "6de808c0bc444a2e",
   "execution_count": 40
  }
 ],
 "metadata": {
  "kernelspec": {
   "display_name": "Python 3",
   "language": "python",
   "name": "python3"
  },
  "language_info": {
   "codemirror_mode": {
    "name": "ipython",
    "version": 2
   },
   "file_extension": ".py",
   "mimetype": "text/x-python",
   "name": "python",
   "nbconvert_exporter": "python",
   "pygments_lexer": "ipython2",
   "version": "2.7.6"
  }
 },
 "nbformat": 4,
 "nbformat_minor": 5
}
